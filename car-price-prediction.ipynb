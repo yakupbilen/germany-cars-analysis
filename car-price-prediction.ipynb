{
 "cells": [
  {
   "cell_type": "markdown",
   "id": "95c44646",
   "metadata": {
    "_cell_guid": "b1076dfc-b9ad-4769-8c92-a6c4dae69d19",
    "_uuid": "8f2839f25d086af736a60e9eeb907d3b93b6e0e5",
    "papermill": {
     "duration": 0.061341,
     "end_time": "2022-04-13T20:53:07.592015",
     "exception": false,
     "start_time": "2022-04-13T20:53:07.530674",
     "status": "completed"
    },
    "tags": []
   },
   "source": [
    "## Main Objective\n",
    "\n",
    "#### The main goal of this analysis is **predict** the price based of cars properties."
   ]
  },
  {
   "cell_type": "code",
   "execution_count": 1,
   "id": "d0464d3a",
   "metadata": {
    "execution": {
     "iopub.execute_input": "2022-04-13T20:53:07.715903Z",
     "iopub.status.busy": "2022-04-13T20:53:07.715132Z",
     "iopub.status.idle": "2022-04-13T20:53:08.906618Z",
     "shell.execute_reply": "2022-04-13T20:53:08.905548Z"
    },
    "papermill": {
     "duration": 1.255818,
     "end_time": "2022-04-13T20:53:08.909259",
     "exception": false,
     "start_time": "2022-04-13T20:53:07.653441",
     "status": "completed"
    },
    "tags": []
   },
   "outputs": [],
   "source": [
    "import numpy as np\n",
    "import pandas as pd\n",
    "import seaborn as sns\n",
    "import matplotlib.pyplot as plt\n",
    "import warnings\n",
    "pd.set_option('display.max_columns',500)\n",
    "warnings.filterwarnings(\"ignore\")\n",
    "%matplotlib inline  "
   ]
  },
  {
   "cell_type": "markdown",
   "id": "d6f469a5",
   "metadata": {
    "papermill": {
     "duration": 0.058271,
     "end_time": "2022-04-13T20:53:09.027966",
     "exception": false,
     "start_time": "2022-04-13T20:53:08.969695",
     "status": "completed"
    },
    "tags": []
   },
   "source": [
    "# EDA"
   ]
  },
  {
   "cell_type": "markdown",
   "id": "208f6b3f",
   "metadata": {
    "papermill": {
     "duration": 0.058425,
     "end_time": "2022-04-13T20:53:09.144989",
     "exception": false,
     "start_time": "2022-04-13T20:53:09.086564",
     "status": "completed"
    },
    "tags": []
   },
   "source": [
    "\n",
    "## Data Description\n",
    "\n",
    "- ##### Dataset containing cars scraped from AutoScout24.\n",
    "- ##### 5 categorical feature\n",
    "- ##### 4 numeric feature\n",
    "\n",
    "## Feature Description\n",
    "\n",
    "- ##### mileage\n",
    "- ##### make \n",
    "- ##### model\n",
    "- ##### fuel\n",
    "- ##### gear\n",
    "- ##### offerType\n",
    "- ##### price\n",
    "- ##### hp\n",
    "- ##### year\n",
    "\n",
    "\n"
   ]
  },
  {
   "cell_type": "code",
   "execution_count": 2,
   "id": "4d27259c",
   "metadata": {
    "execution": {
     "iopub.execute_input": "2022-04-13T20:53:09.263924Z",
     "iopub.status.busy": "2022-04-13T20:53:09.263606Z",
     "iopub.status.idle": "2022-04-13T20:53:09.407938Z",
     "shell.execute_reply": "2022-04-13T20:53:09.406847Z"
    },
    "papermill": {
     "duration": 0.20894,
     "end_time": "2022-04-13T20:53:09.412434",
     "exception": false,
     "start_time": "2022-04-13T20:53:09.203494",
     "status": "completed"
    },
    "tags": []
   },
   "outputs": [
    {
     "data": {
      "text/html": [
       "<div>\n",
       "<style scoped>\n",
       "    .dataframe tbody tr th:only-of-type {\n",
       "        vertical-align: middle;\n",
       "    }\n",
       "\n",
       "    .dataframe tbody tr th {\n",
       "        vertical-align: top;\n",
       "    }\n",
       "\n",
       "    .dataframe thead th {\n",
       "        text-align: right;\n",
       "    }\n",
       "</style>\n",
       "<table border=\"1\" class=\"dataframe\">\n",
       "  <thead>\n",
       "    <tr style=\"text-align: right;\">\n",
       "      <th></th>\n",
       "      <th>mileage</th>\n",
       "      <th>make</th>\n",
       "      <th>model</th>\n",
       "      <th>fuel</th>\n",
       "      <th>gear</th>\n",
       "      <th>offerType</th>\n",
       "      <th>price</th>\n",
       "      <th>hp</th>\n",
       "      <th>year</th>\n",
       "    </tr>\n",
       "  </thead>\n",
       "  <tbody>\n",
       "    <tr>\n",
       "      <th>0</th>\n",
       "      <td>235000</td>\n",
       "      <td>BMW</td>\n",
       "      <td>316</td>\n",
       "      <td>Diesel</td>\n",
       "      <td>Manual</td>\n",
       "      <td>Used</td>\n",
       "      <td>6800</td>\n",
       "      <td>116.0</td>\n",
       "      <td>2011</td>\n",
       "    </tr>\n",
       "    <tr>\n",
       "      <th>1</th>\n",
       "      <td>92800</td>\n",
       "      <td>Volkswagen</td>\n",
       "      <td>Golf</td>\n",
       "      <td>Gasoline</td>\n",
       "      <td>Manual</td>\n",
       "      <td>Used</td>\n",
       "      <td>6877</td>\n",
       "      <td>122.0</td>\n",
       "      <td>2011</td>\n",
       "    </tr>\n",
       "    <tr>\n",
       "      <th>2</th>\n",
       "      <td>149300</td>\n",
       "      <td>SEAT</td>\n",
       "      <td>Exeo</td>\n",
       "      <td>Gasoline</td>\n",
       "      <td>Manual</td>\n",
       "      <td>Used</td>\n",
       "      <td>6900</td>\n",
       "      <td>160.0</td>\n",
       "      <td>2011</td>\n",
       "    </tr>\n",
       "    <tr>\n",
       "      <th>3</th>\n",
       "      <td>96200</td>\n",
       "      <td>Renault</td>\n",
       "      <td>Megane</td>\n",
       "      <td>Gasoline</td>\n",
       "      <td>Manual</td>\n",
       "      <td>Used</td>\n",
       "      <td>6950</td>\n",
       "      <td>110.0</td>\n",
       "      <td>2011</td>\n",
       "    </tr>\n",
       "    <tr>\n",
       "      <th>4</th>\n",
       "      <td>156000</td>\n",
       "      <td>Peugeot</td>\n",
       "      <td>308</td>\n",
       "      <td>Gasoline</td>\n",
       "      <td>Manual</td>\n",
       "      <td>Used</td>\n",
       "      <td>6950</td>\n",
       "      <td>156.0</td>\n",
       "      <td>2011</td>\n",
       "    </tr>\n",
       "  </tbody>\n",
       "</table>\n",
       "</div>"
      ],
      "text/plain": [
       "   mileage        make   model      fuel    gear offerType  price     hp  year\n",
       "0   235000         BMW     316    Diesel  Manual      Used   6800  116.0  2011\n",
       "1    92800  Volkswagen    Golf  Gasoline  Manual      Used   6877  122.0  2011\n",
       "2   149300        SEAT    Exeo  Gasoline  Manual      Used   6900  160.0  2011\n",
       "3    96200     Renault  Megane  Gasoline  Manual      Used   6950  110.0  2011\n",
       "4   156000     Peugeot     308  Gasoline  Manual      Used   6950  156.0  2011"
      ]
     },
     "execution_count": 2,
     "metadata": {},
     "output_type": "execute_result"
    }
   ],
   "source": [
    "df = pd.read_csv(\"../input/cars-germany/autoscout24-germany-dataset.csv\")\n",
    "df.head()"
   ]
  },
  {
   "cell_type": "markdown",
   "id": "1b282c9e",
   "metadata": {
    "papermill": {
     "duration": 0.059512,
     "end_time": "2022-04-13T20:53:09.532670",
     "exception": false,
     "start_time": "2022-04-13T20:53:09.473158",
     "status": "completed"
    },
    "tags": []
   },
   "source": [
    "### Missing values"
   ]
  },
  {
   "cell_type": "code",
   "execution_count": 3,
   "id": "68d1c798",
   "metadata": {
    "execution": {
     "iopub.execute_input": "2022-04-13T20:53:09.654650Z",
     "iopub.status.busy": "2022-04-13T20:53:09.653742Z",
     "iopub.status.idle": "2022-04-13T20:53:10.869096Z",
     "shell.execute_reply": "2022-04-13T20:53:10.868264Z"
    },
    "papermill": {
     "duration": 1.278829,
     "end_time": "2022-04-13T20:53:10.871331",
     "exception": false,
     "start_time": "2022-04-13T20:53:09.592502",
     "status": "completed"
    },
    "tags": []
   },
   "outputs": [
    {
     "data": {
      "image/png": "[encoded data removed]",
      "text/plain": [
       "<Figure size 1080x720 with 1 Axes>"
      ]
     },
     "metadata": {
      "needs_background": "light"
     },
     "output_type": "display_data"
    }
   ],
   "source": [
    "plt.figure(figsize=(15,10))\n",
    "sns.heatmap(df.isna(),annot=False,cbar=False)\n",
    "plt.show()"
   ]
  },
  {
   "cell_type": "code",
   "execution_count": 4,
   "id": "1c44eadf",
   "metadata": {
    "execution": {
     "iopub.execute_input": "2022-04-13T20:53:10.996766Z",
     "iopub.status.busy": "2022-04-13T20:53:10.996342Z",
     "iopub.status.idle": "2022-04-13T20:53:11.037070Z",
     "shell.execute_reply": "2022-04-13T20:53:11.036377Z"
    },
    "papermill": {
     "duration": 0.105836,
     "end_time": "2022-04-13T20:53:11.039288",
     "exception": false,
     "start_time": "2022-04-13T20:53:10.933452",
     "status": "completed"
    },
    "tags": []
   },
   "outputs": [
    {
     "name": "stdout",
     "output_type": "stream",
     "text": [
      "mileage : % 0.0\n",
      "make : % 0.0\n",
      "model : % 0.30816\n",
      "fuel : % 0.0\n",
      "gear : % 0.3922\n",
      "offerType : % 0.0\n",
      "price : % 0.0\n",
      "hp : % 0.06249\n",
      "year : % 0.0\n"
     ]
    }
   ],
   "source": [
    "for column in df.columns:\n",
    "    print(f'{column} : % {round((df[column].isna().sum())/(len(df[column]))*100,5)}')"
   ]
  },
  {
   "cell_type": "code",
   "execution_count": 5,
   "id": "8fd7da21",
   "metadata": {
    "execution": {
     "iopub.execute_input": "2022-04-13T20:53:11.166040Z",
     "iopub.status.busy": "2022-04-13T20:53:11.165470Z",
     "iopub.status.idle": "2022-04-13T20:53:11.199516Z",
     "shell.execute_reply": "2022-04-13T20:53:11.198737Z"
    },
    "papermill": {
     "duration": 0.100223,
     "end_time": "2022-04-13T20:53:11.201618",
     "exception": false,
     "start_time": "2022-04-13T20:53:11.101395",
     "status": "completed"
    },
    "tags": []
   },
   "outputs": [
    {
     "name": "stdout",
     "output_type": "stream",
     "text": [
      "Sample size : 46405\n"
     ]
    },
    {
     "data": {
      "text/plain": [
       "mileage        0\n",
       "make           0\n",
       "model        143\n",
       "fuel           0\n",
       "gear         182\n",
       "offerType      0\n",
       "price          0\n",
       "hp            29\n",
       "year           0\n",
       "dtype: int64"
      ]
     },
     "execution_count": 5,
     "metadata": {},
     "output_type": "execute_result"
    }
   ],
   "source": [
    "print(f\"Sample size : {df.shape[0]}\")\n",
    "df.isnull().sum()"
   ]
  },
  {
   "cell_type": "code",
   "execution_count": 6,
   "id": "0df14610",
   "metadata": {
    "execution": {
     "iopub.execute_input": "2022-04-13T20:53:11.330519Z",
     "iopub.status.busy": "2022-04-13T20:53:11.329952Z",
     "iopub.status.idle": "2022-04-13T20:53:11.401055Z",
     "shell.execute_reply": "2022-04-13T20:53:11.400040Z"
    },
    "papermill": {
     "duration": 0.138336,
     "end_time": "2022-04-13T20:53:11.403366",
     "exception": false,
     "start_time": "2022-04-13T20:53:11.265030",
     "status": "completed"
    },
    "tags": []
   },
   "outputs": [
    {
     "name": "stdout",
     "output_type": "stream",
     "text": [
      "Sample size : 46071\n"
     ]
    },
    {
     "data": {
      "text/plain": [
       "mileage      0\n",
       "make         0\n",
       "model        0\n",
       "fuel         0\n",
       "gear         0\n",
       "offerType    0\n",
       "price        0\n",
       "hp           0\n",
       "year         0\n",
       "dtype: int64"
      ]
     },
     "execution_count": 6,
     "metadata": {},
     "output_type": "execute_result"
    }
   ],
   "source": [
    "df.dropna(inplace=True)\n",
    "print(f\"Sample size : {df.shape[0]}\")\n",
    "df.isnull().sum()"
   ]
  },
  {
   "cell_type": "code",
   "execution_count": 7,
   "id": "ddfd81fc",
   "metadata": {
    "execution": {
     "iopub.execute_input": "2022-04-13T20:53:11.534349Z",
     "iopub.status.busy": "2022-04-13T20:53:11.533594Z",
     "iopub.status.idle": "2022-04-13T20:53:12.660008Z",
     "shell.execute_reply": "2022-04-13T20:53:12.659110Z"
    },
    "papermill": {
     "duration": 1.19483,
     "end_time": "2022-04-13T20:53:12.662357",
     "exception": false,
     "start_time": "2022-04-13T20:53:11.467527",
     "status": "completed"
    },
    "tags": []
   },
   "outputs": [
    {
     "data": {
      "image/png": "[encoded data removed]",
      "text/plain": [
       "<Figure size 1080x720 with 1 Axes>"
      ]
     },
     "metadata": {
      "needs_background": "light"
     },
     "output_type": "display_data"
    }
   ],
   "source": [
    "plt.figure(figsize=(15,10))\n",
    "sns.heatmap(df.isna(),annot=False,cbar=False)\n",
    "plt.show()"
   ]
  },
  {
   "cell_type": "markdown",
   "id": "7f4630c2",
   "metadata": {
    "papermill": {
     "duration": 0.06507,
     "end_time": "2022-04-13T20:53:12.791585",
     "exception": false,
     "start_time": "2022-04-13T20:53:12.726515",
     "status": "completed"
    },
    "tags": []
   },
   "source": [
    "### Descriptive statistics"
   ]
  },
  {
   "cell_type": "code",
   "execution_count": 8,
   "id": "8beb1add",
   "metadata": {
    "execution": {
     "iopub.execute_input": "2022-04-13T20:53:12.926920Z",
     "iopub.status.busy": "2022-04-13T20:53:12.926653Z",
     "iopub.status.idle": "2022-04-13T20:53:12.960279Z",
     "shell.execute_reply": "2022-04-13T20:53:12.959469Z"
    },
    "papermill": {
     "duration": 0.103252,
     "end_time": "2022-04-13T20:53:12.962313",
     "exception": false,
     "start_time": "2022-04-13T20:53:12.859061",
     "status": "completed"
    },
    "tags": []
   },
   "outputs": [
    {
     "data": {
      "text/html": [
       "<div>\n",
       "<style scoped>\n",
       "    .dataframe tbody tr th:only-of-type {\n",
       "        vertical-align: middle;\n",
       "    }\n",
       "\n",
       "    .dataframe tbody tr th {\n",
       "        vertical-align: top;\n",
       "    }\n",
       "\n",
       "    .dataframe thead th {\n",
       "        text-align: right;\n",
       "    }\n",
       "</style>\n",
       "<table border=\"1\" class=\"dataframe\">\n",
       "  <thead>\n",
       "    <tr style=\"text-align: right;\">\n",
       "      <th></th>\n",
       "      <th>mileage</th>\n",
       "      <th>price</th>\n",
       "      <th>hp</th>\n",
       "      <th>year</th>\n",
       "    </tr>\n",
       "  </thead>\n",
       "  <tbody>\n",
       "    <tr>\n",
       "      <th>count</th>\n",
       "      <td>4.607100e+04</td>\n",
       "      <td>4.607100e+04</td>\n",
       "      <td>46071.000000</td>\n",
       "      <td>46071.000000</td>\n",
       "    </tr>\n",
       "    <tr>\n",
       "      <th>mean</th>\n",
       "      <td>7.123314e+04</td>\n",
       "      <td>1.656312e+04</td>\n",
       "      <td>132.992663</td>\n",
       "      <td>2016.012155</td>\n",
       "    </tr>\n",
       "    <tr>\n",
       "      <th>std</th>\n",
       "      <td>6.245413e+04</td>\n",
       "      <td>1.927960e+04</td>\n",
       "      <td>75.074689</td>\n",
       "      <td>3.155555</td>\n",
       "    </tr>\n",
       "    <tr>\n",
       "      <th>min</th>\n",
       "      <td>0.000000e+00</td>\n",
       "      <td>1.100000e+03</td>\n",
       "      <td>1.000000</td>\n",
       "      <td>2011.000000</td>\n",
       "    </tr>\n",
       "    <tr>\n",
       "      <th>25%</th>\n",
       "      <td>1.990000e+04</td>\n",
       "      <td>7.490000e+03</td>\n",
       "      <td>86.000000</td>\n",
       "      <td>2013.000000</td>\n",
       "    </tr>\n",
       "    <tr>\n",
       "      <th>50%</th>\n",
       "      <td>6.000000e+04</td>\n",
       "      <td>1.100000e+04</td>\n",
       "      <td>116.000000</td>\n",
       "      <td>2016.000000</td>\n",
       "    </tr>\n",
       "    <tr>\n",
       "      <th>75%</th>\n",
       "      <td>1.050000e+05</td>\n",
       "      <td>1.949000e+04</td>\n",
       "      <td>150.000000</td>\n",
       "      <td>2019.000000</td>\n",
       "    </tr>\n",
       "    <tr>\n",
       "      <th>max</th>\n",
       "      <td>1.111111e+06</td>\n",
       "      <td>1.199900e+06</td>\n",
       "      <td>850.000000</td>\n",
       "      <td>2021.000000</td>\n",
       "    </tr>\n",
       "  </tbody>\n",
       "</table>\n",
       "</div>"
      ],
      "text/plain": [
       "            mileage         price            hp          year\n",
       "count  4.607100e+04  4.607100e+04  46071.000000  46071.000000\n",
       "mean   7.123314e+04  1.656312e+04    132.992663   2016.012155\n",
       "std    6.245413e+04  1.927960e+04     75.074689      3.155555\n",
       "min    0.000000e+00  1.100000e+03      1.000000   2011.000000\n",
       "25%    1.990000e+04  7.490000e+03     86.000000   2013.000000\n",
       "50%    6.000000e+04  1.100000e+04    116.000000   2016.000000\n",
       "75%    1.050000e+05  1.949000e+04    150.000000   2019.000000\n",
       "max    1.111111e+06  1.199900e+06    850.000000   2021.000000"
      ]
     },
     "execution_count": 8,
     "metadata": {},
     "output_type": "execute_result"
    }
   ],
   "source": [
    "df.describe()"
   ]
  },
  {
   "cell_type": "code",
   "execution_count": 9,
   "id": "d9651a19",
   "metadata": {
    "execution": {
     "iopub.execute_input": "2022-04-13T20:53:13.096534Z",
     "iopub.status.busy": "2022-04-13T20:53:13.095681Z",
     "iopub.status.idle": "2022-04-13T20:53:13.171729Z",
     "shell.execute_reply": "2022-04-13T20:53:13.171131Z"
    },
    "papermill": {
     "duration": 0.145343,
     "end_time": "2022-04-13T20:53:13.173660",
     "exception": false,
     "start_time": "2022-04-13T20:53:13.028317",
     "status": "completed"
    },
    "tags": []
   },
   "outputs": [
    {
     "data": {
      "text/html": [
       "<div>\n",
       "<style scoped>\n",
       "    .dataframe tbody tr th:only-of-type {\n",
       "        vertical-align: middle;\n",
       "    }\n",
       "\n",
       "    .dataframe tbody tr th {\n",
       "        vertical-align: top;\n",
       "    }\n",
       "\n",
       "    .dataframe thead th {\n",
       "        text-align: right;\n",
       "    }\n",
       "</style>\n",
       "<table border=\"1\" class=\"dataframe\">\n",
       "  <thead>\n",
       "    <tr style=\"text-align: right;\">\n",
       "      <th></th>\n",
       "      <th>make</th>\n",
       "      <th>model</th>\n",
       "      <th>fuel</th>\n",
       "      <th>gear</th>\n",
       "      <th>offerType</th>\n",
       "    </tr>\n",
       "  </thead>\n",
       "  <tbody>\n",
       "    <tr>\n",
       "      <th>count</th>\n",
       "      <td>46071</td>\n",
       "      <td>46071</td>\n",
       "      <td>46071</td>\n",
       "      <td>46071</td>\n",
       "      <td>46071</td>\n",
       "    </tr>\n",
       "    <tr>\n",
       "      <th>unique</th>\n",
       "      <td>71</td>\n",
       "      <td>835</td>\n",
       "      <td>11</td>\n",
       "      <td>3</td>\n",
       "      <td>5</td>\n",
       "    </tr>\n",
       "    <tr>\n",
       "      <th>top</th>\n",
       "      <td>Volkswagen</td>\n",
       "      <td>Golf</td>\n",
       "      <td>Gasoline</td>\n",
       "      <td>Manual</td>\n",
       "      <td>Used</td>\n",
       "    </tr>\n",
       "    <tr>\n",
       "      <th>freq</th>\n",
       "      <td>6907</td>\n",
       "      <td>1489</td>\n",
       "      <td>28720</td>\n",
       "      <td>30309</td>\n",
       "      <td>39822</td>\n",
       "    </tr>\n",
       "  </tbody>\n",
       "</table>\n",
       "</div>"
      ],
      "text/plain": [
       "              make  model      fuel    gear offerType\n",
       "count        46071  46071     46071   46071     46071\n",
       "unique          71    835        11       3         5\n",
       "top     Volkswagen   Golf  Gasoline  Manual      Used\n",
       "freq          6907   1489     28720   30309     39822"
      ]
     },
     "execution_count": 9,
     "metadata": {},
     "output_type": "execute_result"
    }
   ],
   "source": [
    "df.describe(include=[\"bool\",\"object\"])"
   ]
  },
  {
   "cell_type": "code",
   "execution_count": 10,
   "id": "2524066b",
   "metadata": {
    "execution": {
     "iopub.execute_input": "2022-04-13T20:53:13.307553Z",
     "iopub.status.busy": "2022-04-13T20:53:13.306772Z",
     "iopub.status.idle": "2022-04-13T20:53:13.459232Z",
     "shell.execute_reply": "2022-04-13T20:53:13.458270Z"
    },
    "papermill": {
     "duration": 0.222253,
     "end_time": "2022-04-13T20:53:13.461728",
     "exception": false,
     "start_time": "2022-04-13T20:53:13.239475",
     "status": "completed"
    },
    "tags": []
   },
   "outputs": [
    {
     "data": {
      "image/png": "[encoded data removed]",
      "text/plain": [
       "<Figure size 720x720 with 1 Axes>"
      ]
     },
     "metadata": {
      "needs_background": "light"
     },
     "output_type": "display_data"
    }
   ],
   "source": [
    "plt.figure(figsize=(10,10))\n",
    "sns.heatmap(df.corr(),annot=True,cbar=False)\n",
    "plt.show()"
   ]
  },
  {
   "cell_type": "code",
   "execution_count": 11,
   "id": "becb9d6c",
   "metadata": {
    "execution": {
     "iopub.execute_input": "2022-04-13T20:53:13.599362Z",
     "iopub.status.busy": "2022-04-13T20:53:13.598408Z",
     "iopub.status.idle": "2022-04-13T20:53:13.617596Z",
     "shell.execute_reply": "2022-04-13T20:53:13.616383Z"
    },
    "papermill": {
     "duration": 0.090464,
     "end_time": "2022-04-13T20:53:13.619889",
     "exception": false,
     "start_time": "2022-04-13T20:53:13.529425",
     "status": "completed"
    },
    "tags": []
   },
   "outputs": [
    {
     "name": "stdout",
     "output_type": "stream",
     "text": [
      "Index(['mileage', 'fuel', 'gear', 'offerType', 'price', 'hp', 'year'], dtype='object')\n"
     ]
    },
    {
     "data": {
      "text/html": [
       "<div>\n",
       "<style scoped>\n",
       "    .dataframe tbody tr th:only-of-type {\n",
       "        vertical-align: middle;\n",
       "    }\n",
       "\n",
       "    .dataframe tbody tr th {\n",
       "        vertical-align: top;\n",
       "    }\n",
       "\n",
       "    .dataframe thead th {\n",
       "        text-align: right;\n",
       "    }\n",
       "</style>\n",
       "<table border=\"1\" class=\"dataframe\">\n",
       "  <thead>\n",
       "    <tr style=\"text-align: right;\">\n",
       "      <th></th>\n",
       "      <th>mileage</th>\n",
       "      <th>fuel</th>\n",
       "      <th>gear</th>\n",
       "      <th>offerType</th>\n",
       "      <th>price</th>\n",
       "      <th>hp</th>\n",
       "      <th>year</th>\n",
       "    </tr>\n",
       "  </thead>\n",
       "  <tbody>\n",
       "    <tr>\n",
       "      <th>0</th>\n",
       "      <td>235000</td>\n",
       "      <td>Diesel</td>\n",
       "      <td>Manual</td>\n",
       "      <td>Used</td>\n",
       "      <td>6800</td>\n",
       "      <td>116.0</td>\n",
       "      <td>2011</td>\n",
       "    </tr>\n",
       "    <tr>\n",
       "      <th>1</th>\n",
       "      <td>92800</td>\n",
       "      <td>Gasoline</td>\n",
       "      <td>Manual</td>\n",
       "      <td>Used</td>\n",
       "      <td>6877</td>\n",
       "      <td>122.0</td>\n",
       "      <td>2011</td>\n",
       "    </tr>\n",
       "    <tr>\n",
       "      <th>2</th>\n",
       "      <td>149300</td>\n",
       "      <td>Gasoline</td>\n",
       "      <td>Manual</td>\n",
       "      <td>Used</td>\n",
       "      <td>6900</td>\n",
       "      <td>160.0</td>\n",
       "      <td>2011</td>\n",
       "    </tr>\n",
       "    <tr>\n",
       "      <th>3</th>\n",
       "      <td>96200</td>\n",
       "      <td>Gasoline</td>\n",
       "      <td>Manual</td>\n",
       "      <td>Used</td>\n",
       "      <td>6950</td>\n",
       "      <td>110.0</td>\n",
       "      <td>2011</td>\n",
       "    </tr>\n",
       "    <tr>\n",
       "      <th>4</th>\n",
       "      <td>156000</td>\n",
       "      <td>Gasoline</td>\n",
       "      <td>Manual</td>\n",
       "      <td>Used</td>\n",
       "      <td>6950</td>\n",
       "      <td>156.0</td>\n",
       "      <td>2011</td>\n",
       "    </tr>\n",
       "  </tbody>\n",
       "</table>\n",
       "</div>"
      ],
      "text/plain": [
       "   mileage      fuel    gear offerType  price     hp  year\n",
       "0   235000    Diesel  Manual      Used   6800  116.0  2011\n",
       "1    92800  Gasoline  Manual      Used   6877  122.0  2011\n",
       "2   149300  Gasoline  Manual      Used   6900  160.0  2011\n",
       "3    96200  Gasoline  Manual      Used   6950  110.0  2011\n",
       "4   156000  Gasoline  Manual      Used   6950  156.0  2011"
      ]
     },
     "execution_count": 11,
     "metadata": {},
     "output_type": "execute_result"
    }
   ],
   "source": [
    "df.drop(inplace=True,labels=['make','model'],axis=1)\n",
    "print(df.columns)\n",
    "df.head()"
   ]
  },
  {
   "cell_type": "markdown",
   "id": "ccd7ce3e",
   "metadata": {
    "papermill": {
     "duration": 0.071565,
     "end_time": "2022-04-13T20:53:13.759905",
     "exception": false,
     "start_time": "2022-04-13T20:53:13.688340",
     "status": "completed"
    },
    "tags": []
   },
   "source": [
    "### Visualization of Data Distribution"
   ]
  },
  {
   "cell_type": "code",
   "execution_count": 12,
   "id": "9f0d57ea",
   "metadata": {
    "execution": {
     "iopub.execute_input": "2022-04-13T20:53:13.896829Z",
     "iopub.status.busy": "2022-04-13T20:53:13.896161Z",
     "iopub.status.idle": "2022-04-13T20:53:18.875184Z",
     "shell.execute_reply": "2022-04-13T20:53:18.874272Z"
    },
    "papermill": {
     "duration": 5.050033,
     "end_time": "2022-04-13T20:53:18.877607",
     "exception": false,
     "start_time": "2022-04-13T20:53:13.827574",
     "status": "completed"
    },
    "tags": []
   },
   "outputs": [
    {
     "data": {
      "image/png": "[encoded data removed]",
      "text/plain": [
       "<Figure size 432x288 with 1 Axes>"
      ]
     },
     "metadata": {
      "needs_background": "light"
     },
     "output_type": "display_data"
    },
    {
     "data": {
      "image/png": "[encoded data removed]",
      "text/plain": [
       "<Figure size 432x288 with 1 Axes>"
      ]
     },
     "metadata": {
      "needs_background": "light"
     },
     "output_type": "display_data"
    },
    {
     "data": {
      "image/png": "[encoded data removed]",
      "text/plain": [
       "<Figure size 432x288 with 1 Axes>"
      ]
     },
     "metadata": {
      "needs_background": "light"
     },
     "output_type": "display_data"
    },
    {
     "data": {
      "image/png": "[encoded data removed]",
      "text/plain": [
       "<Figure size 432x288 with 1 Axes>"
      ]
     },
     "metadata": {
      "needs_background": "light"
     },
     "output_type": "display_data"
    }
   ],
   "source": [
    "for column in [column for column in df.columns if df[column].dtype!= 'object']:\n",
    "    sns.histplot(df[column])\n",
    "    plt.show()"
   ]
  },
  {
   "cell_type": "code",
   "execution_count": 13,
   "id": "61ed1a57",
   "metadata": {
    "execution": {
     "iopub.execute_input": "2022-04-13T20:53:19.022867Z",
     "iopub.status.busy": "2022-04-13T20:53:19.022374Z",
     "iopub.status.idle": "2022-04-13T20:53:19.758137Z",
     "shell.execute_reply": "2022-04-13T20:53:19.757081Z"
    },
    "papermill": {
     "duration": 0.810442,
     "end_time": "2022-04-13T20:53:19.760483",
     "exception": false,
     "start_time": "2022-04-13T20:53:18.950041",
     "status": "completed"
    },
    "tags": []
   },
   "outputs": [
    {
     "data": {
      "image/png": "[encoded data removed]",
      "text/plain": [
       "<Figure size 576x360 with 1 Axes>"
      ]
     },
     "metadata": {
      "needs_background": "light"
     },
     "output_type": "display_data"
    },
    {
     "data": {
      "image/png": "[encoded data removed]",
      "text/plain": [
       "<Figure size 576x360 with 1 Axes>"
      ]
     },
     "metadata": {
      "needs_background": "light"
     },
     "output_type": "display_data"
    },
    {
     "data": {
      "image/png": "[encoded data removed]",
      "text/plain": [
       "<Figure size 576x360 with 1 Axes>"
      ]
     },
     "metadata": {
      "needs_background": "light"
     },
     "output_type": "display_data"
    }
   ],
   "source": [
    "for column in [column for column in df.columns if df[column].dtype== 'object']:\n",
    "    plt.figure(figsize=(8,5))\n",
    "    sns.countplot(df[column])\n",
    "    plt.xticks(rotation='90')\n",
    "    plt.show()"
   ]
  },
  {
   "cell_type": "code",
   "execution_count": 14,
   "id": "f415ae37",
   "metadata": {
    "execution": {
     "iopub.execute_input": "2022-04-13T20:53:19.911464Z",
     "iopub.status.busy": "2022-04-13T20:53:19.911038Z",
     "iopub.status.idle": "2022-04-13T20:53:20.499490Z",
     "shell.execute_reply": "2022-04-13T20:53:20.498502Z"
    },
    "papermill": {
     "duration": 0.667913,
     "end_time": "2022-04-13T20:53:20.502590",
     "exception": false,
     "start_time": "2022-04-13T20:53:19.834677",
     "status": "completed"
    },
    "tags": []
   },
   "outputs": [
    {
     "data": {
      "image/png": "[encoded data removed]",
      "text/plain": [
       "<Figure size 432x288 with 1 Axes>"
      ]
     },
     "metadata": {
      "needs_background": "light"
     },
     "output_type": "display_data"
    },
    {
     "data": {
      "image/png": "[encoded data removed]",
      "text/plain": [
       "<Figure size 432x288 with 1 Axes>"
      ]
     },
     "metadata": {
      "needs_background": "light"
     },
     "output_type": "display_data"
    },
    {
     "data": {
      "image/png": "[encoded data removed]",
      "text/plain": [
       "<Figure size 432x288 with 1 Axes>"
      ]
     },
     "metadata": {
      "needs_background": "light"
     },
     "output_type": "display_data"
    },
    {
     "data": {
      "image/png": "[encoded data removed]",
      "text/plain": [
       "<Figure size 432x288 with 1 Axes>"
      ]
     },
     "metadata": {
      "needs_background": "light"
     },
     "output_type": "display_data"
    }
   ],
   "source": [
    "for column in [column for column in df.columns if df[column].dtype!= 'object']:\n",
    "    sns.boxplot(df[column])\n",
    "    plt.show()"
   ]
  },
  {
   "cell_type": "markdown",
   "id": "7d3ec2d5",
   "metadata": {
    "papermill": {
     "duration": 0.076058,
     "end_time": "2022-04-13T20:53:20.658983",
     "exception": false,
     "start_time": "2022-04-13T20:53:20.582925",
     "status": "completed"
    },
    "tags": []
   },
   "source": [
    "# Handling Categorical Features\n",
    "\n",
    "\n",
    "\n",
    "\n",
    "    The features used in regression analysis/models must be quantitative(numeric/measurable quantity). However, sometimes using categorical variables as predictive variables can increase the precision of the estimation. In this analysis they are \"fuel\",\"gear\" and \"offerType\". When using categorical variables, it doesn’t make sense to just assign values like 1, 2, 3, to values like “Manual”, “Semi-automatic”, and “Automatic” because it doesn’t make sense to say that Semi-automatic cars are twice as good/valuable as Manual cars or that Automatic cars are three times as good/valuable as Manual cars.\n",
    "\n",
    "    Instead, the solution is to use dummy variables. These are variables that we create specifically for regression analysis that take on one of two values: 0 or 1. To avoid dummy variable trap we must create n-1 dummy variable. Where n is the number of different values that the categorical variable can take on.\n",
    "     \n",
    "> #### For more detail about \"Dummy Variable Trap\" click [here](!https://www.learndatasci.com/glossary/dummy-variable-trap/).\n",
    "\n",
    "    \n",
    "  "
   ]
  },
  {
   "cell_type": "code",
   "execution_count": 15,
   "id": "71ec5087",
   "metadata": {
    "execution": {
     "iopub.execute_input": "2022-04-13T20:53:20.815323Z",
     "iopub.status.busy": "2022-04-13T20:53:20.814864Z",
     "iopub.status.idle": "2022-04-13T20:53:20.864276Z",
     "shell.execute_reply": "2022-04-13T20:53:20.863323Z"
    },
    "papermill": {
     "duration": 0.130242,
     "end_time": "2022-04-13T20:53:20.866434",
     "exception": false,
     "start_time": "2022-04-13T20:53:20.736192",
     "status": "completed"
    },
    "tags": []
   },
   "outputs": [
    {
     "data": {
      "text/html": [
       "<div>\n",
       "<style scoped>\n",
       "    .dataframe tbody tr th:only-of-type {\n",
       "        vertical-align: middle;\n",
       "    }\n",
       "\n",
       "    .dataframe tbody tr th {\n",
       "        vertical-align: top;\n",
       "    }\n",
       "\n",
       "    .dataframe thead th {\n",
       "        text-align: right;\n",
       "    }\n",
       "</style>\n",
       "<table border=\"1\" class=\"dataframe\">\n",
       "  <thead>\n",
       "    <tr style=\"text-align: right;\">\n",
       "      <th></th>\n",
       "      <th>fuel</th>\n",
       "      <th>gear</th>\n",
       "      <th>offerType</th>\n",
       "    </tr>\n",
       "  </thead>\n",
       "  <tbody>\n",
       "    <tr>\n",
       "      <th>count</th>\n",
       "      <td>46071</td>\n",
       "      <td>46071</td>\n",
       "      <td>46071</td>\n",
       "    </tr>\n",
       "    <tr>\n",
       "      <th>unique</th>\n",
       "      <td>11</td>\n",
       "      <td>3</td>\n",
       "      <td>5</td>\n",
       "    </tr>\n",
       "    <tr>\n",
       "      <th>top</th>\n",
       "      <td>Gasoline</td>\n",
       "      <td>Manual</td>\n",
       "      <td>Used</td>\n",
       "    </tr>\n",
       "    <tr>\n",
       "      <th>freq</th>\n",
       "      <td>28720</td>\n",
       "      <td>30309</td>\n",
       "      <td>39822</td>\n",
       "    </tr>\n",
       "  </tbody>\n",
       "</table>\n",
       "</div>"
      ],
      "text/plain": [
       "            fuel    gear offerType\n",
       "count      46071   46071     46071\n",
       "unique        11       3         5\n",
       "top     Gasoline  Manual      Used\n",
       "freq       28720   30309     39822"
      ]
     },
     "execution_count": 15,
     "metadata": {},
     "output_type": "execute_result"
    }
   ],
   "source": [
    "df.describe(include=['bool','object'])"
   ]
  },
  {
   "cell_type": "code",
   "execution_count": 16,
   "id": "6d852ec4",
   "metadata": {
    "execution": {
     "iopub.execute_input": "2022-04-13T20:53:21.026599Z",
     "iopub.status.busy": "2022-04-13T20:53:21.026308Z",
     "iopub.status.idle": "2022-04-13T20:53:21.036054Z",
     "shell.execute_reply": "2022-04-13T20:53:21.035300Z"
    },
    "papermill": {
     "duration": 0.092301,
     "end_time": "2022-04-13T20:53:21.037938",
     "exception": false,
     "start_time": "2022-04-13T20:53:20.945637",
     "status": "completed"
    },
    "tags": []
   },
   "outputs": [
    {
     "data": {
      "text/plain": [
       "array(['Diesel', 'Gasoline', 'Electric/Gasoline', '-/- (Fuel)',\n",
       "       'Electric', 'Electric/Diesel', 'CNG', 'LPG', 'Others', 'Hydrogen',\n",
       "       'Ethanol'], dtype=object)"
      ]
     },
     "execution_count": 16,
     "metadata": {},
     "output_type": "execute_result"
    }
   ],
   "source": [
    "df[\"fuel\"].unique()"
   ]
  },
  {
   "cell_type": "code",
   "execution_count": 17,
   "id": "f219ea4f",
   "metadata": {
    "execution": {
     "iopub.execute_input": "2022-04-13T20:53:21.196190Z",
     "iopub.status.busy": "2022-04-13T20:53:21.195668Z",
     "iopub.status.idle": "2022-04-13T20:53:21.237069Z",
     "shell.execute_reply": "2022-04-13T20:53:21.236433Z"
    },
    "papermill": {
     "duration": 0.122666,
     "end_time": "2022-04-13T20:53:21.238941",
     "exception": false,
     "start_time": "2022-04-13T20:53:21.116275",
     "status": "completed"
    },
    "tags": []
   },
   "outputs": [
    {
     "data": {
      "text/plain": [
       "array(['Diesel', 'Gasoline', 'Electric', 'Gas'], dtype=object)"
      ]
     },
     "execution_count": 17,
     "metadata": {},
     "output_type": "execute_result"
    }
   ],
   "source": [
    "df[\"fuel\"] = df[\"fuel\"].replace(['Electric/Diesel','Electric/Gasoline'],'Electric')\n",
    "df[\"fuel\"] = df[\"fuel\"].replace(['-/- (Fuel)','CNG','LPG','Others', 'Hydrogen', 'Ethanol'],\"Gas\")\n",
    "df[\"fuel\"].unique()"
   ]
  },
  {
   "cell_type": "code",
   "execution_count": 18,
   "id": "1c8c99e0",
   "metadata": {
    "execution": {
     "iopub.execute_input": "2022-04-13T20:53:21.397516Z",
     "iopub.status.busy": "2022-04-13T20:53:21.397012Z",
     "iopub.status.idle": "2022-04-13T20:53:21.405861Z",
     "shell.execute_reply": "2022-04-13T20:53:21.405224Z"
    },
    "papermill": {
     "duration": 0.091013,
     "end_time": "2022-04-13T20:53:21.407958",
     "exception": false,
     "start_time": "2022-04-13T20:53:21.316945",
     "status": "completed"
    },
    "tags": []
   },
   "outputs": [
    {
     "data": {
      "text/plain": [
       "array(['Manual', 'Automatic', 'Semi-automatic'], dtype=object)"
      ]
     },
     "execution_count": 18,
     "metadata": {},
     "output_type": "execute_result"
    }
   ],
   "source": [
    "df[\"gear\"].unique()"
   ]
  },
  {
   "cell_type": "code",
   "execution_count": 19,
   "id": "609471f3",
   "metadata": {
    "execution": {
     "iopub.execute_input": "2022-04-13T20:53:21.569372Z",
     "iopub.status.busy": "2022-04-13T20:53:21.568904Z",
     "iopub.status.idle": "2022-04-13T20:53:21.577867Z",
     "shell.execute_reply": "2022-04-13T20:53:21.576928Z"
    },
    "papermill": {
     "duration": 0.091955,
     "end_time": "2022-04-13T20:53:21.579895",
     "exception": false,
     "start_time": "2022-04-13T20:53:21.487940",
     "status": "completed"
    },
    "tags": []
   },
   "outputs": [
    {
     "data": {
      "text/plain": [
       "array(['Used', 'Demonstration', \"Employee's car\", 'Pre-registered', 'New'],\n",
       "      dtype=object)"
      ]
     },
     "execution_count": 19,
     "metadata": {},
     "output_type": "execute_result"
    }
   ],
   "source": [
    "df[\"offerType\"].unique()"
   ]
  },
  {
   "cell_type": "code",
   "execution_count": 20,
   "id": "6dc0bd1f",
   "metadata": {
    "execution": {
     "iopub.execute_input": "2022-04-13T20:53:21.742777Z",
     "iopub.status.busy": "2022-04-13T20:53:21.742339Z",
     "iopub.status.idle": "2022-04-13T20:53:21.768346Z",
     "shell.execute_reply": "2022-04-13T20:53:21.767559Z"
    },
    "papermill": {
     "duration": 0.110112,
     "end_time": "2022-04-13T20:53:21.770256",
     "exception": false,
     "start_time": "2022-04-13T20:53:21.660144",
     "status": "completed"
    },
    "tags": []
   },
   "outputs": [
    {
     "data": {
      "text/html": [
       "<div>\n",
       "<style scoped>\n",
       "    .dataframe tbody tr th:only-of-type {\n",
       "        vertical-align: middle;\n",
       "    }\n",
       "\n",
       "    .dataframe tbody tr th {\n",
       "        vertical-align: top;\n",
       "    }\n",
       "\n",
       "    .dataframe thead th {\n",
       "        text-align: right;\n",
       "    }\n",
       "</style>\n",
       "<table border=\"1\" class=\"dataframe\">\n",
       "  <thead>\n",
       "    <tr style=\"text-align: right;\">\n",
       "      <th></th>\n",
       "      <th>mileage</th>\n",
       "      <th>fuel</th>\n",
       "      <th>gear</th>\n",
       "      <th>offerType</th>\n",
       "      <th>price</th>\n",
       "      <th>hp</th>\n",
       "      <th>year</th>\n",
       "    </tr>\n",
       "  </thead>\n",
       "  <tbody>\n",
       "    <tr>\n",
       "      <th>2276</th>\n",
       "      <td>0</td>\n",
       "      <td>Electric</td>\n",
       "      <td>Manual</td>\n",
       "      <td>Used</td>\n",
       "      <td>44750</td>\n",
       "      <td>204.0</td>\n",
       "      <td>2021</td>\n",
       "    </tr>\n",
       "    <tr>\n",
       "      <th>2909</th>\n",
       "      <td>0</td>\n",
       "      <td>Diesel</td>\n",
       "      <td>Automatic</td>\n",
       "      <td>Demonstration</td>\n",
       "      <td>79999</td>\n",
       "      <td>300.0</td>\n",
       "      <td>2021</td>\n",
       "    </tr>\n",
       "    <tr>\n",
       "      <th>5673</th>\n",
       "      <td>0</td>\n",
       "      <td>Gasoline</td>\n",
       "      <td>Automatic</td>\n",
       "      <td>Demonstration</td>\n",
       "      <td>23450</td>\n",
       "      <td>140.0</td>\n",
       "      <td>2020</td>\n",
       "    </tr>\n",
       "    <tr>\n",
       "      <th>6110</th>\n",
       "      <td>0</td>\n",
       "      <td>Gasoline</td>\n",
       "      <td>Manual</td>\n",
       "      <td>Pre-registered</td>\n",
       "      <td>17250</td>\n",
       "      <td>91.0</td>\n",
       "      <td>2021</td>\n",
       "    </tr>\n",
       "    <tr>\n",
       "      <th>6762</th>\n",
       "      <td>0</td>\n",
       "      <td>Gasoline</td>\n",
       "      <td>Automatic</td>\n",
       "      <td>Used</td>\n",
       "      <td>12990</td>\n",
       "      <td>72.0</td>\n",
       "      <td>2021</td>\n",
       "    </tr>\n",
       "    <tr>\n",
       "      <th>...</th>\n",
       "      <td>...</td>\n",
       "      <td>...</td>\n",
       "      <td>...</td>\n",
       "      <td>...</td>\n",
       "      <td>...</td>\n",
       "      <td>...</td>\n",
       "      <td>...</td>\n",
       "    </tr>\n",
       "    <tr>\n",
       "      <th>45900</th>\n",
       "      <td>0</td>\n",
       "      <td>Gasoline</td>\n",
       "      <td>Manual</td>\n",
       "      <td>Pre-registered</td>\n",
       "      <td>13990</td>\n",
       "      <td>71.0</td>\n",
       "      <td>2021</td>\n",
       "    </tr>\n",
       "    <tr>\n",
       "      <th>45914</th>\n",
       "      <td>0</td>\n",
       "      <td>Gasoline</td>\n",
       "      <td>Manual</td>\n",
       "      <td>Demonstration</td>\n",
       "      <td>27290</td>\n",
       "      <td>179.0</td>\n",
       "      <td>2021</td>\n",
       "    </tr>\n",
       "    <tr>\n",
       "      <th>45979</th>\n",
       "      <td>0</td>\n",
       "      <td>Gasoline</td>\n",
       "      <td>Manual</td>\n",
       "      <td>Pre-registered</td>\n",
       "      <td>18490</td>\n",
       "      <td>95.0</td>\n",
       "      <td>2021</td>\n",
       "    </tr>\n",
       "    <tr>\n",
       "      <th>45996</th>\n",
       "      <td>0</td>\n",
       "      <td>Gasoline</td>\n",
       "      <td>Manual</td>\n",
       "      <td>Pre-registered</td>\n",
       "      <td>18080</td>\n",
       "      <td>131.0</td>\n",
       "      <td>2021</td>\n",
       "    </tr>\n",
       "    <tr>\n",
       "      <th>46123</th>\n",
       "      <td>0</td>\n",
       "      <td>Diesel</td>\n",
       "      <td>Manual</td>\n",
       "      <td>Pre-registered</td>\n",
       "      <td>35480</td>\n",
       "      <td>200.0</td>\n",
       "      <td>2021</td>\n",
       "    </tr>\n",
       "  </tbody>\n",
       "</table>\n",
       "<p>65 rows × 7 columns</p>\n",
       "</div>"
      ],
      "text/plain": [
       "       mileage      fuel       gear       offerType  price     hp  year\n",
       "2276         0  Electric     Manual            Used  44750  204.0  2021\n",
       "2909         0    Diesel  Automatic   Demonstration  79999  300.0  2021\n",
       "5673         0  Gasoline  Automatic   Demonstration  23450  140.0  2020\n",
       "6110         0  Gasoline     Manual  Pre-registered  17250   91.0  2021\n",
       "6762         0  Gasoline  Automatic            Used  12990   72.0  2021\n",
       "...        ...       ...        ...             ...    ...    ...   ...\n",
       "45900        0  Gasoline     Manual  Pre-registered  13990   71.0  2021\n",
       "45914        0  Gasoline     Manual   Demonstration  27290  179.0  2021\n",
       "45979        0  Gasoline     Manual  Pre-registered  18490   95.0  2021\n",
       "45996        0  Gasoline     Manual  Pre-registered  18080  131.0  2021\n",
       "46123        0    Diesel     Manual  Pre-registered  35480  200.0  2021\n",
       "\n",
       "[65 rows x 7 columns]"
      ]
     },
     "execution_count": 20,
     "metadata": {},
     "output_type": "execute_result"
    }
   ],
   "source": [
    "df[(df[\"mileage\"]==0) & (df[\"offerType\"]!=\"New\")]"
   ]
  },
  {
   "cell_type": "code",
   "execution_count": 21,
   "id": "439454aa",
   "metadata": {
    "execution": {
     "iopub.execute_input": "2022-04-13T20:53:21.933977Z",
     "iopub.status.busy": "2022-04-13T20:53:21.932993Z",
     "iopub.status.idle": "2022-04-13T20:53:21.972156Z",
     "shell.execute_reply": "2022-04-13T20:53:21.971273Z"
    },
    "papermill": {
     "duration": 0.123721,
     "end_time": "2022-04-13T20:53:21.974507",
     "exception": false,
     "start_time": "2022-04-13T20:53:21.850786",
     "status": "completed"
    },
    "tags": []
   },
   "outputs": [
    {
     "data": {
      "text/html": [
       "<div>\n",
       "<style scoped>\n",
       "    .dataframe tbody tr th:only-of-type {\n",
       "        vertical-align: middle;\n",
       "    }\n",
       "\n",
       "    .dataframe tbody tr th {\n",
       "        vertical-align: top;\n",
       "    }\n",
       "\n",
       "    .dataframe thead th {\n",
       "        text-align: right;\n",
       "    }\n",
       "</style>\n",
       "<table border=\"1\" class=\"dataframe\">\n",
       "  <thead>\n",
       "    <tr style=\"text-align: right;\">\n",
       "      <th></th>\n",
       "      <th>mileage</th>\n",
       "      <th>price</th>\n",
       "      <th>hp</th>\n",
       "      <th>year</th>\n",
       "      <th>fuel_Electric</th>\n",
       "      <th>fuel_Gas</th>\n",
       "      <th>fuel_Gasoline</th>\n",
       "      <th>gear_Manual</th>\n",
       "      <th>gear_Semi-automatic</th>\n",
       "      <th>offerType_Employee's car</th>\n",
       "      <th>offerType_New</th>\n",
       "      <th>offerType_Pre-registered</th>\n",
       "      <th>offerType_Used</th>\n",
       "    </tr>\n",
       "  </thead>\n",
       "  <tbody>\n",
       "    <tr>\n",
       "      <th>0</th>\n",
       "      <td>235000</td>\n",
       "      <td>6800</td>\n",
       "      <td>116.0</td>\n",
       "      <td>2011</td>\n",
       "      <td>0</td>\n",
       "      <td>0</td>\n",
       "      <td>0</td>\n",
       "      <td>1</td>\n",
       "      <td>0</td>\n",
       "      <td>0</td>\n",
       "      <td>0</td>\n",
       "      <td>0</td>\n",
       "      <td>1</td>\n",
       "    </tr>\n",
       "    <tr>\n",
       "      <th>1</th>\n",
       "      <td>92800</td>\n",
       "      <td>6877</td>\n",
       "      <td>122.0</td>\n",
       "      <td>2011</td>\n",
       "      <td>0</td>\n",
       "      <td>0</td>\n",
       "      <td>1</td>\n",
       "      <td>1</td>\n",
       "      <td>0</td>\n",
       "      <td>0</td>\n",
       "      <td>0</td>\n",
       "      <td>0</td>\n",
       "      <td>1</td>\n",
       "    </tr>\n",
       "    <tr>\n",
       "      <th>2</th>\n",
       "      <td>149300</td>\n",
       "      <td>6900</td>\n",
       "      <td>160.0</td>\n",
       "      <td>2011</td>\n",
       "      <td>0</td>\n",
       "      <td>0</td>\n",
       "      <td>1</td>\n",
       "      <td>1</td>\n",
       "      <td>0</td>\n",
       "      <td>0</td>\n",
       "      <td>0</td>\n",
       "      <td>0</td>\n",
       "      <td>1</td>\n",
       "    </tr>\n",
       "    <tr>\n",
       "      <th>3</th>\n",
       "      <td>96200</td>\n",
       "      <td>6950</td>\n",
       "      <td>110.0</td>\n",
       "      <td>2011</td>\n",
       "      <td>0</td>\n",
       "      <td>0</td>\n",
       "      <td>1</td>\n",
       "      <td>1</td>\n",
       "      <td>0</td>\n",
       "      <td>0</td>\n",
       "      <td>0</td>\n",
       "      <td>0</td>\n",
       "      <td>1</td>\n",
       "    </tr>\n",
       "    <tr>\n",
       "      <th>4</th>\n",
       "      <td>156000</td>\n",
       "      <td>6950</td>\n",
       "      <td>156.0</td>\n",
       "      <td>2011</td>\n",
       "      <td>0</td>\n",
       "      <td>0</td>\n",
       "      <td>1</td>\n",
       "      <td>1</td>\n",
       "      <td>0</td>\n",
       "      <td>0</td>\n",
       "      <td>0</td>\n",
       "      <td>0</td>\n",
       "      <td>1</td>\n",
       "    </tr>\n",
       "  </tbody>\n",
       "</table>\n",
       "</div>"
      ],
      "text/plain": [
       "   mileage  price     hp  year  fuel_Electric  fuel_Gas  fuel_Gasoline  \\\n",
       "0   235000   6800  116.0  2011              0         0              0   \n",
       "1    92800   6877  122.0  2011              0         0              1   \n",
       "2   149300   6900  160.0  2011              0         0              1   \n",
       "3    96200   6950  110.0  2011              0         0              1   \n",
       "4   156000   6950  156.0  2011              0         0              1   \n",
       "\n",
       "   gear_Manual  gear_Semi-automatic  offerType_Employee's car  offerType_New  \\\n",
       "0            1                    0                         0              0   \n",
       "1            1                    0                         0              0   \n",
       "2            1                    0                         0              0   \n",
       "3            1                    0                         0              0   \n",
       "4            1                    0                         0              0   \n",
       "\n",
       "   offerType_Pre-registered  offerType_Used  \n",
       "0                         0               1  \n",
       "1                         0               1  \n",
       "2                         0               1  \n",
       "3                         0               1  \n",
       "4                         0               1  "
      ]
     },
     "execution_count": 21,
     "metadata": {},
     "output_type": "execute_result"
    }
   ],
   "source": [
    "df_temp = df.copy()\n",
    "df = pd.get_dummies(df,prefix=[\"fuel\",\"gear\",\"offerType\"],drop_first=True)\n",
    "df.head()"
   ]
  },
  {
   "cell_type": "code",
   "execution_count": 22,
   "id": "c2f0bf17",
   "metadata": {
    "execution": {
     "iopub.execute_input": "2022-04-13T20:53:22.138382Z",
     "iopub.status.busy": "2022-04-13T20:53:22.138075Z",
     "iopub.status.idle": "2022-04-13T20:53:22.154906Z",
     "shell.execute_reply": "2022-04-13T20:53:22.154255Z"
    },
    "papermill": {
     "duration": 0.10108,
     "end_time": "2022-04-13T20:53:22.157097",
     "exception": false,
     "start_time": "2022-04-13T20:53:22.056017",
     "status": "completed"
    },
    "tags": []
   },
   "outputs": [
    {
     "data": {
      "text/html": [
       "<div>\n",
       "<style scoped>\n",
       "    .dataframe tbody tr th:only-of-type {\n",
       "        vertical-align: middle;\n",
       "    }\n",
       "\n",
       "    .dataframe tbody tr th {\n",
       "        vertical-align: top;\n",
       "    }\n",
       "\n",
       "    .dataframe thead th {\n",
       "        text-align: right;\n",
       "    }\n",
       "</style>\n",
       "<table border=\"1\" class=\"dataframe\">\n",
       "  <thead>\n",
       "    <tr style=\"text-align: right;\">\n",
       "      <th></th>\n",
       "      <th>mileage</th>\n",
       "      <th>hp</th>\n",
       "      <th>year</th>\n",
       "      <th>fuel_Electric</th>\n",
       "      <th>fuel_Gas</th>\n",
       "      <th>fuel_Gasoline</th>\n",
       "      <th>gear_Manual</th>\n",
       "      <th>gear_Semi-automatic</th>\n",
       "      <th>offerType_Employee's car</th>\n",
       "      <th>offerType_New</th>\n",
       "      <th>offerType_Pre-registered</th>\n",
       "      <th>offerType_Used</th>\n",
       "      <th>price</th>\n",
       "    </tr>\n",
       "  </thead>\n",
       "  <tbody>\n",
       "    <tr>\n",
       "      <th>0</th>\n",
       "      <td>235000</td>\n",
       "      <td>116.0</td>\n",
       "      <td>2011</td>\n",
       "      <td>0</td>\n",
       "      <td>0</td>\n",
       "      <td>0</td>\n",
       "      <td>1</td>\n",
       "      <td>0</td>\n",
       "      <td>0</td>\n",
       "      <td>0</td>\n",
       "      <td>0</td>\n",
       "      <td>1</td>\n",
       "      <td>6800</td>\n",
       "    </tr>\n",
       "    <tr>\n",
       "      <th>1</th>\n",
       "      <td>92800</td>\n",
       "      <td>122.0</td>\n",
       "      <td>2011</td>\n",
       "      <td>0</td>\n",
       "      <td>0</td>\n",
       "      <td>1</td>\n",
       "      <td>1</td>\n",
       "      <td>0</td>\n",
       "      <td>0</td>\n",
       "      <td>0</td>\n",
       "      <td>0</td>\n",
       "      <td>1</td>\n",
       "      <td>6877</td>\n",
       "    </tr>\n",
       "    <tr>\n",
       "      <th>2</th>\n",
       "      <td>149300</td>\n",
       "      <td>160.0</td>\n",
       "      <td>2011</td>\n",
       "      <td>0</td>\n",
       "      <td>0</td>\n",
       "      <td>1</td>\n",
       "      <td>1</td>\n",
       "      <td>0</td>\n",
       "      <td>0</td>\n",
       "      <td>0</td>\n",
       "      <td>0</td>\n",
       "      <td>1</td>\n",
       "      <td>6900</td>\n",
       "    </tr>\n",
       "    <tr>\n",
       "      <th>3</th>\n",
       "      <td>96200</td>\n",
       "      <td>110.0</td>\n",
       "      <td>2011</td>\n",
       "      <td>0</td>\n",
       "      <td>0</td>\n",
       "      <td>1</td>\n",
       "      <td>1</td>\n",
       "      <td>0</td>\n",
       "      <td>0</td>\n",
       "      <td>0</td>\n",
       "      <td>0</td>\n",
       "      <td>1</td>\n",
       "      <td>6950</td>\n",
       "    </tr>\n",
       "    <tr>\n",
       "      <th>4</th>\n",
       "      <td>156000</td>\n",
       "      <td>156.0</td>\n",
       "      <td>2011</td>\n",
       "      <td>0</td>\n",
       "      <td>0</td>\n",
       "      <td>1</td>\n",
       "      <td>1</td>\n",
       "      <td>0</td>\n",
       "      <td>0</td>\n",
       "      <td>0</td>\n",
       "      <td>0</td>\n",
       "      <td>1</td>\n",
       "      <td>6950</td>\n",
       "    </tr>\n",
       "  </tbody>\n",
       "</table>\n",
       "</div>"
      ],
      "text/plain": [
       "   mileage     hp  year  fuel_Electric  fuel_Gas  fuel_Gasoline  gear_Manual  \\\n",
       "0   235000  116.0  2011              0         0              0            1   \n",
       "1    92800  122.0  2011              0         0              1            1   \n",
       "2   149300  160.0  2011              0         0              1            1   \n",
       "3    96200  110.0  2011              0         0              1            1   \n",
       "4   156000  156.0  2011              0         0              1            1   \n",
       "\n",
       "   gear_Semi-automatic  offerType_Employee's car  offerType_New  \\\n",
       "0                    0                         0              0   \n",
       "1                    0                         0              0   \n",
       "2                    0                         0              0   \n",
       "3                    0                         0              0   \n",
       "4                    0                         0              0   \n",
       "\n",
       "   offerType_Pre-registered  offerType_Used  price  \n",
       "0                         0               1   6800  \n",
       "1                         0               1   6877  \n",
       "2                         0               1   6900  \n",
       "3                         0               1   6950  \n",
       "4                         0               1   6950  "
      ]
     },
     "execution_count": 22,
     "metadata": {},
     "output_type": "execute_result"
    }
   ],
   "source": [
    "cols=list(df.columns)\n",
    "cols.remove(\"price\")\n",
    "cols.append(\"price\")\n",
    "cols\n",
    "df = df[cols]\n",
    "df.head()"
   ]
  },
  {
   "cell_type": "code",
   "execution_count": 23,
   "id": "8ab7176c",
   "metadata": {
    "execution": {
     "iopub.execute_input": "2022-04-13T20:53:22.322604Z",
     "iopub.status.busy": "2022-04-13T20:53:22.321681Z",
     "iopub.status.idle": "2022-04-13T20:53:22.367189Z",
     "shell.execute_reply": "2022-04-13T20:53:22.366510Z"
    },
    "papermill": {
     "duration": 0.130279,
     "end_time": "2022-04-13T20:53:22.369179",
     "exception": false,
     "start_time": "2022-04-13T20:53:22.238900",
     "status": "completed"
    },
    "tags": []
   },
   "outputs": [
    {
     "data": {
      "text/html": [
       "<div>\n",
       "<style scoped>\n",
       "    .dataframe tbody tr th:only-of-type {\n",
       "        vertical-align: middle;\n",
       "    }\n",
       "\n",
       "    .dataframe tbody tr th {\n",
       "        vertical-align: top;\n",
       "    }\n",
       "\n",
       "    .dataframe thead th {\n",
       "        text-align: right;\n",
       "    }\n",
       "</style>\n",
       "<table border=\"1\" class=\"dataframe\">\n",
       "  <thead>\n",
       "    <tr style=\"text-align: right;\">\n",
       "      <th></th>\n",
       "      <th>mileage</th>\n",
       "      <th>hp</th>\n",
       "      <th>year</th>\n",
       "      <th>fuel_Electric</th>\n",
       "      <th>fuel_Gas</th>\n",
       "      <th>fuel_Gasoline</th>\n",
       "      <th>gear_Manual</th>\n",
       "      <th>gear_Semi-automatic</th>\n",
       "      <th>offerType_Employee's car</th>\n",
       "      <th>offerType_New</th>\n",
       "      <th>offerType_Pre-registered</th>\n",
       "      <th>offerType_Used</th>\n",
       "      <th>price</th>\n",
       "    </tr>\n",
       "  </thead>\n",
       "  <tbody>\n",
       "    <tr>\n",
       "      <th>0</th>\n",
       "      <td>235000</td>\n",
       "      <td>116.0</td>\n",
       "      <td>11</td>\n",
       "      <td>0</td>\n",
       "      <td>0</td>\n",
       "      <td>0</td>\n",
       "      <td>1</td>\n",
       "      <td>0</td>\n",
       "      <td>0</td>\n",
       "      <td>0</td>\n",
       "      <td>0</td>\n",
       "      <td>1</td>\n",
       "      <td>6800</td>\n",
       "    </tr>\n",
       "    <tr>\n",
       "      <th>1</th>\n",
       "      <td>92800</td>\n",
       "      <td>122.0</td>\n",
       "      <td>11</td>\n",
       "      <td>0</td>\n",
       "      <td>0</td>\n",
       "      <td>1</td>\n",
       "      <td>1</td>\n",
       "      <td>0</td>\n",
       "      <td>0</td>\n",
       "      <td>0</td>\n",
       "      <td>0</td>\n",
       "      <td>1</td>\n",
       "      <td>6877</td>\n",
       "    </tr>\n",
       "    <tr>\n",
       "      <th>2</th>\n",
       "      <td>149300</td>\n",
       "      <td>160.0</td>\n",
       "      <td>11</td>\n",
       "      <td>0</td>\n",
       "      <td>0</td>\n",
       "      <td>1</td>\n",
       "      <td>1</td>\n",
       "      <td>0</td>\n",
       "      <td>0</td>\n",
       "      <td>0</td>\n",
       "      <td>0</td>\n",
       "      <td>1</td>\n",
       "      <td>6900</td>\n",
       "    </tr>\n",
       "    <tr>\n",
       "      <th>3</th>\n",
       "      <td>96200</td>\n",
       "      <td>110.0</td>\n",
       "      <td>11</td>\n",
       "      <td>0</td>\n",
       "      <td>0</td>\n",
       "      <td>1</td>\n",
       "      <td>1</td>\n",
       "      <td>0</td>\n",
       "      <td>0</td>\n",
       "      <td>0</td>\n",
       "      <td>0</td>\n",
       "      <td>1</td>\n",
       "      <td>6950</td>\n",
       "    </tr>\n",
       "    <tr>\n",
       "      <th>4</th>\n",
       "      <td>156000</td>\n",
       "      <td>156.0</td>\n",
       "      <td>11</td>\n",
       "      <td>0</td>\n",
       "      <td>0</td>\n",
       "      <td>1</td>\n",
       "      <td>1</td>\n",
       "      <td>0</td>\n",
       "      <td>0</td>\n",
       "      <td>0</td>\n",
       "      <td>0</td>\n",
       "      <td>1</td>\n",
       "      <td>6950</td>\n",
       "    </tr>\n",
       "  </tbody>\n",
       "</table>\n",
       "</div>"
      ],
      "text/plain": [
       "   mileage     hp  year  fuel_Electric  fuel_Gas  fuel_Gasoline  gear_Manual  \\\n",
       "0   235000  116.0    11              0         0              0            1   \n",
       "1    92800  122.0    11              0         0              1            1   \n",
       "2   149300  160.0    11              0         0              1            1   \n",
       "3    96200  110.0    11              0         0              1            1   \n",
       "4   156000  156.0    11              0         0              1            1   \n",
       "\n",
       "   gear_Semi-automatic  offerType_Employee's car  offerType_New  \\\n",
       "0                    0                         0              0   \n",
       "1                    0                         0              0   \n",
       "2                    0                         0              0   \n",
       "3                    0                         0              0   \n",
       "4                    0                         0              0   \n",
       "\n",
       "   offerType_Pre-registered  offerType_Used  price  \n",
       "0                         0               1   6800  \n",
       "1                         0               1   6877  \n",
       "2                         0               1   6900  \n",
       "3                         0               1   6950  \n",
       "4                         0               1   6950  "
      ]
     },
     "execution_count": 23,
     "metadata": {},
     "output_type": "execute_result"
    }
   ],
   "source": [
    "from datetime import date\n",
    "curr_year = date.today().year\n",
    "df[\"year\"] = df[\"year\"].apply(lambda x:curr_year-x)\n",
    "df.head()"
   ]
  },
  {
   "cell_type": "markdown",
   "id": "b45136f6",
   "metadata": {
    "papermill": {
     "duration": 0.08206,
     "end_time": "2022-04-13T20:53:22.532463",
     "exception": false,
     "start_time": "2022-04-13T20:53:22.450403",
     "status": "completed"
    },
    "tags": []
   },
   "source": [
    "## Outliers"
   ]
  },
  {
   "cell_type": "code",
   "execution_count": 24,
   "id": "f5becb0d",
   "metadata": {
    "execution": {
     "iopub.execute_input": "2022-04-13T20:53:22.699469Z",
     "iopub.status.busy": "2022-04-13T20:53:22.698907Z",
     "iopub.status.idle": "2022-04-13T20:53:22.712086Z",
     "shell.execute_reply": "2022-04-13T20:53:22.711299Z"
    },
    "papermill": {
     "duration": 0.100097,
     "end_time": "2022-04-13T20:53:22.714668",
     "exception": false,
     "start_time": "2022-04-13T20:53:22.614571",
     "status": "completed"
    },
    "tags": []
   },
   "outputs": [],
   "source": [
    "def delete_outlier_with_z(data,col,threshold_value):\n",
    "    temp_df = data.copy()\n",
    "    if isinstance(col,str):\n",
    "        mean = temp_df[col].mean()\n",
    "        std = temp_df[col].std()\n",
    "        temp_df[\"z\"] = temp_df[col].apply(lambda x: abs(mean-x)/std)\n",
    "        temp_df = temp_df[(temp_df[\"z\"]>-threshold_value)&(temp_df[\"z\"]<threshold_value)]\n",
    "    elif isinstance(col,list):\n",
    "        for colname in col:\n",
    "            mean = temp_df[colname].mean()\n",
    "            std = temp_df[colname].std()\n",
    "            temp_df[\"z\"] = temp_df[colname].apply(lambda x: abs(mean-x)/std)\n",
    "            temp_df = temp_df[(temp_df[\"z\"]>-threshold_value)&(temp_df[\"z\"]<threshold_value)]\n",
    "    temp_df.drop([\"z\"],inplace=True,axis=1)\n",
    "    return temp_df\n",
    "\n",
    "def delete_outlier_with_iqr(data,col,constant_value):\n",
    "    if isinstance(col,str):\n",
    "        q3 = np.quantile(data[col], 0.75)\n",
    "        q1 = np.quantile(data[col], 0.25)\n",
    "        iqr = q3 - q1\n",
    "        lower = q1 - constant_value*iqr\n",
    "        upper = q3 + constant_value*iqr\n",
    "        data = data[(data[col]>lower) & (data[col]<upper)]    \n",
    "    elif isinstance(col,list):\n",
    "        for colname in col:\n",
    "            q3 = np.quantile(data[colname], 0.75)\n",
    "            q1 = np.quantile(data[colname], 0.25)\n",
    "            iqr = q3 - q1\n",
    "            lower = q1 - constant_value*iqr\n",
    "            upper = q3 + constant_value*iqr\n",
    "            data = data[(data[colname]>lower) & (data[colname]<upper)]\n",
    "    return data\n",
    "        "
   ]
  },
  {
   "cell_type": "code",
   "execution_count": 25,
   "id": "4fa08656",
   "metadata": {
    "execution": {
     "iopub.execute_input": "2022-04-13T20:53:22.882412Z",
     "iopub.status.busy": "2022-04-13T20:53:22.881953Z",
     "iopub.status.idle": "2022-04-13T20:53:23.136354Z",
     "shell.execute_reply": "2022-04-13T20:53:23.135443Z"
    },
    "papermill": {
     "duration": 0.340253,
     "end_time": "2022-04-13T20:53:23.138740",
     "exception": false,
     "start_time": "2022-04-13T20:53:22.798487",
     "status": "completed"
    },
    "tags": []
   },
   "outputs": [
    {
     "name": "stdout",
     "output_type": "stream",
     "text": [
      "46071\n",
      "After removing outlier with z value sample size : 44138\n",
      "After removing outlier with iqr value sample size : 41088\n"
     ]
    }
   ],
   "source": [
    "\n",
    "print(df.shape[0])\n",
    "cleaned_df_z = delete_outlier_with_z(data=df,col=[\"price\",\"hp\",\"year\",\"mileage\"],threshold_value=3)\n",
    "print(f\"After removing outlier with z value sample size : {cleaned_df_z.shape[0]}\")\n",
    "\n",
    "cleaned_df_iqr = delete_outlier_with_iqr(data=df,col=[\"price\",\"hp\",\"year\",\"mileage\"],constant_value=1.5)\n",
    "print(f\"After removing outlier with iqr value sample size : {cleaned_df_iqr.shape[0]}\")\n"
   ]
  },
  {
   "cell_type": "markdown",
   "id": "3dd4cba6",
   "metadata": {
    "papermill": {
     "duration": 0.082924,
     "end_time": "2022-04-13T20:53:23.305002",
     "exception": false,
     "start_time": "2022-04-13T20:53:23.222078",
     "status": "completed"
    },
    "tags": []
   },
   "source": [
    "### Data distribution after deleting outliers"
   ]
  },
  {
   "cell_type": "markdown",
   "id": "1a0d6b97",
   "metadata": {
    "papermill": {
     "duration": 0.082148,
     "end_time": "2022-04-13T20:53:23.469741",
     "exception": false,
     "start_time": "2022-04-13T20:53:23.387593",
     "status": "completed"
    },
    "tags": []
   },
   "source": [
    "##### Z Score"
   ]
  },
  {
   "cell_type": "code",
   "execution_count": 26,
   "id": "54071642",
   "metadata": {
    "execution": {
     "iopub.execute_input": "2022-04-13T20:53:23.636373Z",
     "iopub.status.busy": "2022-04-13T20:53:23.636072Z",
     "iopub.status.idle": "2022-04-13T20:53:24.130728Z",
     "shell.execute_reply": "2022-04-13T20:53:24.129802Z"
    },
    "papermill": {
     "duration": 0.580267,
     "end_time": "2022-04-13T20:53:24.132947",
     "exception": false,
     "start_time": "2022-04-13T20:53:23.552680",
     "status": "completed"
    },
    "tags": []
   },
   "outputs": [
    {
     "data": {
      "image/png": "[encoded data removed]",
      "text/plain": [
       "<Figure size 432x288 with 1 Axes>"
      ]
     },
     "metadata": {
      "needs_background": "light"
     },
     "output_type": "display_data"
    },
    {
     "data": {
      "image/png": "[encoded data removed]",
      "text/plain": [
       "<Figure size 432x288 with 1 Axes>"
      ]
     },
     "metadata": {
      "needs_background": "light"
     },
     "output_type": "display_data"
    },
    {
     "data": {
      "image/png": "[encoded data removed]",
      "text/plain": [
       "<Figure size 432x288 with 1 Axes>"
      ]
     },
     "metadata": {
      "needs_background": "light"
     },
     "output_type": "display_data"
    },
    {
     "data": {
      "image/png": "[encoded data removed]",
      "text/plain": [
       "<Figure size 432x288 with 1 Axes>"
      ]
     },
     "metadata": {
      "needs_background": "light"
     },
     "output_type": "display_data"
    }
   ],
   "source": [
    "for column in [\"mileage\",\"hp\",\"year\",\"price\"]:\n",
    "    sns.boxplot(cleaned_df_z[column])\n",
    "    plt.show()"
   ]
  },
  {
   "cell_type": "markdown",
   "id": "f45df3d3",
   "metadata": {
    "papermill": {
     "duration": 0.08472,
     "end_time": "2022-04-13T20:53:24.303406",
     "exception": false,
     "start_time": "2022-04-13T20:53:24.218686",
     "status": "completed"
    },
    "tags": []
   },
   "source": [
    "##### IQR"
   ]
  },
  {
   "cell_type": "code",
   "execution_count": 27,
   "id": "e477e705",
   "metadata": {
    "execution": {
     "iopub.execute_input": "2022-04-13T20:53:24.475268Z",
     "iopub.status.busy": "2022-04-13T20:53:24.474697Z",
     "iopub.status.idle": "2022-04-13T20:53:25.285282Z",
     "shell.execute_reply": "2022-04-13T20:53:25.284295Z"
    },
    "papermill": {
     "duration": 0.899097,
     "end_time": "2022-04-13T20:53:25.287621",
     "exception": false,
     "start_time": "2022-04-13T20:53:24.388524",
     "status": "completed"
    },
    "tags": []
   },
   "outputs": [
    {
     "data": {
      "image/png": "[encoded data removed]",
      "text/plain": [
       "<Figure size 432x288 with 1 Axes>"
      ]
     },
     "metadata": {
      "needs_background": "light"
     },
     "output_type": "display_data"
    },
    {
     "data": {
      "image/png": "[encoded data removed]",
      "text/plain": [
       "<Figure size 432x288 with 1 Axes>"
      ]
     },
     "metadata": {
      "needs_background": "light"
     },
     "output_type": "display_data"
    },
    {
     "data": {
      "image/png": "[encoded data removed]",
      "text/plain": [
       "<Figure size 432x288 with 1 Axes>"
      ]
     },
     "metadata": {
      "needs_background": "light"
     },
     "output_type": "display_data"
    },
    {
     "data": {
      "image/png": "[encoded data removed]",
      "text/plain": [
       "<Figure size 432x288 with 1 Axes>"
      ]
     },
     "metadata": {
      "needs_background": "light"
     },
     "output_type": "display_data"
    }
   ],
   "source": [
    "for column in [\"mileage\",\"hp\",\"year\",\"price\"]:\n",
    "    sns.boxplot(cleaned_df_iqr[column])\n",
    "    plt.show()"
   ]
  },
  {
   "cell_type": "markdown",
   "id": "cc5c9caa",
   "metadata": {
    "papermill": {
     "duration": 0.087729,
     "end_time": "2022-04-13T20:53:25.463101",
     "exception": false,
     "start_time": "2022-04-13T20:53:25.375372",
     "status": "completed"
    },
    "tags": []
   },
   "source": [
    "> ### It can be observed that after deleting outliers with IQR, less abnormal data remains."
   ]
  },
  {
   "cell_type": "markdown",
   "id": "deffce26",
   "metadata": {
    "papermill": {
     "duration": 0.086903,
     "end_time": "2022-04-13T20:53:25.637440",
     "exception": false,
     "start_time": "2022-04-13T20:53:25.550537",
     "status": "completed"
    },
    "tags": []
   },
   "source": [
    "# Modeling the Data"
   ]
  },
  {
   "cell_type": "code",
   "execution_count": 28,
   "id": "a636becf",
   "metadata": {
    "execution": {
     "iopub.execute_input": "2022-04-13T20:53:25.814060Z",
     "iopub.status.busy": "2022-04-13T20:53:25.813224Z",
     "iopub.status.idle": "2022-04-13T20:53:26.042327Z",
     "shell.execute_reply": "2022-04-13T20:53:26.041336Z"
    },
    "papermill": {
     "duration": 0.320123,
     "end_time": "2022-04-13T20:53:26.044736",
     "exception": false,
     "start_time": "2022-04-13T20:53:25.724613",
     "status": "completed"
    },
    "tags": []
   },
   "outputs": [],
   "source": [
    "from sklearn.model_selection import train_test_split\n",
    "from sklearn.metrics import mean_absolute_error,mean_squared_error,r2_score\n",
    "from sklearn.model_selection import KFold\n",
    "from bayes_opt import BayesianOptimization\n",
    "def root_mae(y_test,y_pred):\n",
    "    return np.sqrt(mean_squared_error(y_test,y_pred))\n",
    "def root_mse(y_test,y_pred):\n",
    "    return np.log(np.sqrt(mean_squared_error(y_test,y_pred)))\n",
    "def adj_r2_score(y_test,y_pred):\n",
    "    r2 = r2_score(y_test,y_pred)\n",
    "    return 1 - ((1-r2)*(y_test.shape[0]-1)/(y_test.shape[0]-y_test.shape[1]-1))\n",
    "\n",
    "\n",
    "metrics_dict = {\"r2\":r2_score,\"adjr2\":adj_r2_score,\"mae\":mean_absolute_error,\"rmae\":root_mae,\"mse\":mean_squared_error,\"rmse\":root_mse}\n",
    "def evaluate_model(estimator,X,y,metrics,n_splits,shuffle,random_state):\n",
    "    result = {}\n",
    "    kfold = KFold(n_splits=n_splits,random_state=random_state,shuffle=shuffle)\n",
    "    for train_index,test_index in kfold.split(X):\n",
    "        X_train, X_test, y_train, y_test = (X.iloc[train_index, :], X.iloc[test_index, :], y.iloc[train_index], y.iloc[test_index])\n",
    "        estimator.fit(X_train,y_train)\n",
    "        pred = estimator.predict(X_test)\n",
    "        for metric in metrics:\n",
    "            if metric not in result.keys():\n",
    "                result[metric] = []\n",
    "            result[metric].append(metrics_dict[metric](y_test,pred))\n",
    "    for metric in metrics:\n",
    "        result[metric] = np.mean(result[metric])\n",
    "    return result\n",
    "    \n",
    "y_iqr = cleaned_df_iqr.iloc[:,len(cleaned_df_iqr.columns)-1:]\n",
    "y_z = cleaned_df_z.iloc[:,len(cleaned_df_z.columns)-1:]\n",
    "X_iqr = cleaned_df_iqr.iloc[:,:len(cleaned_df_iqr.columns)-1]\n",
    "X_z = cleaned_df_z.iloc[:,:len(cleaned_df_z.columns)-1]\n"
   ]
  },
  {
   "cell_type": "code",
   "execution_count": 29,
   "id": "7e6a8db8",
   "metadata": {
    "execution": {
     "iopub.execute_input": "2022-04-13T20:53:26.221784Z",
     "iopub.status.busy": "2022-04-13T20:53:26.221481Z",
     "iopub.status.idle": "2022-04-13T20:53:26.440792Z",
     "shell.execute_reply": "2022-04-13T20:53:26.439864Z"
    },
    "papermill": {
     "duration": 0.311202,
     "end_time": "2022-04-13T20:53:26.443738",
     "exception": false,
     "start_time": "2022-04-13T20:53:26.132536",
     "status": "completed"
    },
    "tags": []
   },
   "outputs": [],
   "source": [
    "from sklearn.pipeline import Pipeline\n",
    "from sklearn.preprocessing import MinMaxScaler,StandardScaler,PolynomialFeatures\n",
    "from sklearn.linear_model import LinearRegression,Lasso,LassoCV,Ridge,RidgeCV,ElasticNet,ElasticNetCV\n",
    "from sklearn.ensemble import GradientBoostingRegressor,RandomForestRegressor"
   ]
  },
  {
   "cell_type": "code",
   "execution_count": 30,
   "id": "44b4f72e",
   "metadata": {
    "execution": {
     "iopub.execute_input": "2022-04-13T20:53:26.620507Z",
     "iopub.status.busy": "2022-04-13T20:53:26.620229Z",
     "iopub.status.idle": "2022-04-13T20:53:26.650688Z",
     "shell.execute_reply": "2022-04-13T20:53:26.649835Z"
    },
    "papermill": {
     "duration": 0.120988,
     "end_time": "2022-04-13T20:53:26.652870",
     "exception": false,
     "start_time": "2022-04-13T20:53:26.531882",
     "status": "completed"
    },
    "tags": []
   },
   "outputs": [
    {
     "data": {
      "text/html": [
       "<div>\n",
       "<style scoped>\n",
       "    .dataframe tbody tr th:only-of-type {\n",
       "        vertical-align: middle;\n",
       "    }\n",
       "\n",
       "    .dataframe tbody tr th {\n",
       "        vertical-align: top;\n",
       "    }\n",
       "\n",
       "    .dataframe thead th {\n",
       "        text-align: right;\n",
       "    }\n",
       "</style>\n",
       "<table border=\"1\" class=\"dataframe\">\n",
       "  <thead>\n",
       "    <tr style=\"text-align: right;\">\n",
       "      <th></th>\n",
       "      <th>mileage</th>\n",
       "      <th>hp</th>\n",
       "      <th>year</th>\n",
       "      <th>fuel_Electric</th>\n",
       "      <th>fuel_Gas</th>\n",
       "      <th>fuel_Gasoline</th>\n",
       "      <th>gear_Manual</th>\n",
       "      <th>gear_Semi-automatic</th>\n",
       "      <th>offerType_Employee's car</th>\n",
       "      <th>offerType_New</th>\n",
       "      <th>offerType_Pre-registered</th>\n",
       "      <th>offerType_Used</th>\n",
       "    </tr>\n",
       "  </thead>\n",
       "  <tbody>\n",
       "    <tr>\n",
       "      <th>0</th>\n",
       "      <td>2.966810</td>\n",
       "      <td>0.017747</td>\n",
       "      <td>1.549464</td>\n",
       "      <td>-0.190577</td>\n",
       "      <td>-0.084894</td>\n",
       "      <td>-1.368094</td>\n",
       "      <td>0.62065</td>\n",
       "      <td>-0.035939</td>\n",
       "      <td>-0.149479</td>\n",
       "      <td>-0.014802</td>\n",
       "      <td>-0.257555</td>\n",
       "      <td>0.376786</td>\n",
       "    </tr>\n",
       "    <tr>\n",
       "      <th>1</th>\n",
       "      <td>0.404938</td>\n",
       "      <td>0.165935</td>\n",
       "      <td>1.549464</td>\n",
       "      <td>-0.190577</td>\n",
       "      <td>-0.084894</td>\n",
       "      <td>0.730944</td>\n",
       "      <td>0.62065</td>\n",
       "      <td>-0.035939</td>\n",
       "      <td>-0.149479</td>\n",
       "      <td>-0.014802</td>\n",
       "      <td>-0.257555</td>\n",
       "      <td>0.376786</td>\n",
       "    </tr>\n",
       "    <tr>\n",
       "      <th>2</th>\n",
       "      <td>1.422841</td>\n",
       "      <td>1.104459</td>\n",
       "      <td>1.549464</td>\n",
       "      <td>-0.190577</td>\n",
       "      <td>-0.084894</td>\n",
       "      <td>0.730944</td>\n",
       "      <td>0.62065</td>\n",
       "      <td>-0.035939</td>\n",
       "      <td>-0.149479</td>\n",
       "      <td>-0.014802</td>\n",
       "      <td>-0.257555</td>\n",
       "      <td>0.376786</td>\n",
       "    </tr>\n",
       "    <tr>\n",
       "      <th>3</th>\n",
       "      <td>0.466192</td>\n",
       "      <td>-0.130441</td>\n",
       "      <td>1.549464</td>\n",
       "      <td>-0.190577</td>\n",
       "      <td>-0.084894</td>\n",
       "      <td>0.730944</td>\n",
       "      <td>0.62065</td>\n",
       "      <td>-0.035939</td>\n",
       "      <td>-0.149479</td>\n",
       "      <td>-0.014802</td>\n",
       "      <td>-0.257555</td>\n",
       "      <td>0.376786</td>\n",
       "    </tr>\n",
       "    <tr>\n",
       "      <th>4</th>\n",
       "      <td>1.543548</td>\n",
       "      <td>1.005667</td>\n",
       "      <td>1.549464</td>\n",
       "      <td>-0.190577</td>\n",
       "      <td>-0.084894</td>\n",
       "      <td>0.730944</td>\n",
       "      <td>0.62065</td>\n",
       "      <td>-0.035939</td>\n",
       "      <td>-0.149479</td>\n",
       "      <td>-0.014802</td>\n",
       "      <td>-0.257555</td>\n",
       "      <td>0.376786</td>\n",
       "    </tr>\n",
       "  </tbody>\n",
       "</table>\n",
       "</div>"
      ],
      "text/plain": [
       "    mileage        hp      year  fuel_Electric  fuel_Gas  fuel_Gasoline  \\\n",
       "0  2.966810  0.017747  1.549464      -0.190577 -0.084894      -1.368094   \n",
       "1  0.404938  0.165935  1.549464      -0.190577 -0.084894       0.730944   \n",
       "2  1.422841  1.104459  1.549464      -0.190577 -0.084894       0.730944   \n",
       "3  0.466192 -0.130441  1.549464      -0.190577 -0.084894       0.730944   \n",
       "4  1.543548  1.005667  1.549464      -0.190577 -0.084894       0.730944   \n",
       "\n",
       "   gear_Manual  gear_Semi-automatic  offerType_Employee's car  offerType_New  \\\n",
       "0      0.62065            -0.035939                 -0.149479      -0.014802   \n",
       "1      0.62065            -0.035939                 -0.149479      -0.014802   \n",
       "2      0.62065            -0.035939                 -0.149479      -0.014802   \n",
       "3      0.62065            -0.035939                 -0.149479      -0.014802   \n",
       "4      0.62065            -0.035939                 -0.149479      -0.014802   \n",
       "\n",
       "   offerType_Pre-registered  offerType_Used  \n",
       "0                 -0.257555        0.376786  \n",
       "1                 -0.257555        0.376786  \n",
       "2                 -0.257555        0.376786  \n",
       "3                 -0.257555        0.376786  \n",
       "4                 -0.257555        0.376786  "
      ]
     },
     "execution_count": 30,
     "metadata": {},
     "output_type": "execute_result"
    }
   ],
   "source": [
    "sc = StandardScaler()\n",
    "X_iqr_scaled = sc.fit_transform(X_iqr)\n",
    "X_iqr_scaled = pd.DataFrame(data = X_iqr_scaled, columns = X_iqr.columns)\n",
    "X_iqr_scaled.head()"
   ]
  },
  {
   "cell_type": "markdown",
   "id": "1fb604a9",
   "metadata": {
    "papermill": {
     "duration": 0.088399,
     "end_time": "2022-04-13T20:53:26.836195",
     "exception": false,
     "start_time": "2022-04-13T20:53:26.747796",
     "status": "completed"
    },
    "tags": []
   },
   "source": [
    "### Linear Regression"
   ]
  },
  {
   "cell_type": "code",
   "execution_count": 31,
   "id": "4d7e7bce",
   "metadata": {
    "execution": {
     "iopub.execute_input": "2022-04-13T20:53:27.019739Z",
     "iopub.status.busy": "2022-04-13T20:53:27.018920Z",
     "iopub.status.idle": "2022-04-13T20:53:27.223985Z",
     "shell.execute_reply": "2022-04-13T20:53:27.222981Z"
    },
    "papermill": {
     "duration": 0.30094,
     "end_time": "2022-04-13T20:53:27.227722",
     "exception": false,
     "start_time": "2022-04-13T20:53:26.926782",
     "status": "completed"
    },
    "tags": []
   },
   "outputs": [
    {
     "data": {
      "text/plain": [
       "{'r2': 0.8358321614856532, 'rmse': 8.03041729844751}"
      ]
     },
     "execution_count": 31,
     "metadata": {},
     "output_type": "execute_result"
    }
   ],
   "source": [
    "pipe = Pipeline([(\"lr\",LinearRegression())])\n",
    "result = evaluate_model(estimator=pipe,X=X_iqr,y=y_iqr,metrics=[\"r2\",\"rmse\"],n_splits=5,shuffle=True,random_state=23)\n",
    "result"
   ]
  },
  {
   "cell_type": "code",
   "execution_count": 32,
   "id": "5abc21b6",
   "metadata": {
    "execution": {
     "iopub.execute_input": "2022-04-13T20:53:27.453940Z",
     "iopub.status.busy": "2022-04-13T20:53:27.453652Z",
     "iopub.status.idle": "2022-04-13T20:53:34.712017Z",
     "shell.execute_reply": "2022-04-13T20:53:34.711008Z"
    },
    "papermill": {
     "duration": 7.354324,
     "end_time": "2022-04-13T20:53:34.715689",
     "exception": false,
     "start_time": "2022-04-13T20:53:27.361365",
     "status": "completed"
    },
    "tags": []
   },
   "outputs": [
    {
     "name": "stdout",
     "output_type": "stream",
     "text": [
      "degree : 2 -/- results : {'adjr2': 0.880890792007509, 'rmse': 7.869875045652018}\n",
      "degree : 3 -/- results : {'adjr2': 0.8471463983945048, 'rmse': 7.986999458695536}\n"
     ]
    }
   ],
   "source": [
    "degrees = [2,3]\n",
    "\n",
    "for degree in degrees:\n",
    "    pipe = Pipeline([(\"Degree\",PolynomialFeatures(degree = degree)),(\"LinearR\",LinearRegression())])\n",
    "    r = evaluate_model(estimator=pipe,X=X_iqr,y=y_iqr,metrics=[\"adjr2\",\"rmse\"],n_splits=5,shuffle=True,random_state=23)\n",
    "    print(f\"degree : {degree} -/- results : {r}\")"
   ]
  },
  {
   "cell_type": "code",
   "execution_count": 33,
   "id": "7b385d4f",
   "metadata": {
    "execution": {
     "iopub.execute_input": "2022-04-13T20:53:34.959055Z",
     "iopub.status.busy": "2022-04-13T20:53:34.958780Z",
     "iopub.status.idle": "2022-04-13T20:53:36.203079Z",
     "shell.execute_reply": "2022-04-13T20:53:36.202137Z"
    },
    "papermill": {
     "duration": 1.33875,
     "end_time": "2022-04-13T20:53:36.206819",
     "exception": false,
     "start_time": "2022-04-13T20:53:34.868069",
     "status": "completed"
    },
    "tags": []
   },
   "outputs": [
    {
     "data": {
      "text/plain": [
       "{'adjr2': 0.880890792007509, 'rmse': 7.869875045652018}"
      ]
     },
     "execution_count": 33,
     "metadata": {},
     "output_type": "execute_result"
    }
   ],
   "source": [
    "pipe = Pipeline([(\"Degree\",PolynomialFeatures(degree = 2)),(\"LinearR\",LinearRegression())])\n",
    "r = evaluate_model(estimator=pipe,X=X_iqr,y=y_iqr,metrics=[\"adjr2\",\"rmse\"],n_splits=5,shuffle=True,random_state=23)\n",
    "r"
   ]
  },
  {
   "cell_type": "markdown",
   "id": "6f9923ba",
   "metadata": {
    "papermill": {
     "duration": 0.090306,
     "end_time": "2022-04-13T20:53:36.456580",
     "exception": false,
     "start_time": "2022-04-13T20:53:36.366274",
     "status": "completed"
    },
    "tags": []
   },
   "source": [
    "### Random Forest Regression"
   ]
  },
  {
   "cell_type": "code",
   "execution_count": 34,
   "id": "e4a3bc16",
   "metadata": {
    "execution": {
     "iopub.execute_input": "2022-04-13T20:53:36.638861Z",
     "iopub.status.busy": "2022-04-13T20:53:36.638604Z",
     "iopub.status.idle": "2022-04-13T20:59:24.372542Z",
     "shell.execute_reply": "2022-04-13T20:59:24.371438Z"
    },
    "papermill": {
     "duration": 347.931982,
     "end_time": "2022-04-13T20:59:24.479312",
     "exception": false,
     "start_time": "2022-04-13T20:53:36.547330",
     "status": "completed"
    },
    "tags": []
   },
   "outputs": [
    {
     "data": {
      "text/plain": [
       "{'adjr2': 0.8905497347705549, 'rmse': 7.827313847073961}"
      ]
     },
     "execution_count": 34,
     "metadata": {},
     "output_type": "execute_result"
    }
   ],
   "source": [
    "pipe = Pipeline([(\"Degree\",PolynomialFeatures(degree = 2)),(\"RandomForestRegressor\",RandomForestRegressor(n_estimators=200))])\n",
    "r = evaluate_model(estimator=pipe,X=X_iqr,y=y_iqr,metrics=[\"adjr2\",\"rmse\"],n_splits=5,shuffle=True,random_state=23)\n",
    "r"
   ]
  },
  {
   "cell_type": "markdown",
   "id": "6c14bc7a",
   "metadata": {
    "papermill": {
     "duration": 0.096389,
     "end_time": "2022-04-13T20:59:24.673659",
     "exception": false,
     "start_time": "2022-04-13T20:59:24.577270",
     "status": "completed"
    },
    "tags": []
   },
   "source": [
    "### Gradient Boosting Regression"
   ]
  },
  {
   "cell_type": "code",
   "execution_count": 35,
   "id": "89ae6cc9",
   "metadata": {
    "execution": {
     "iopub.execute_input": "2022-04-13T20:59:24.869861Z",
     "iopub.status.busy": "2022-04-13T20:59:24.869507Z",
     "iopub.status.idle": "2022-04-13T20:59:47.356147Z",
     "shell.execute_reply": "2022-04-13T20:59:47.355262Z"
    },
    "papermill": {
     "duration": 22.590186,
     "end_time": "2022-04-13T20:59:47.359984",
     "exception": false,
     "start_time": "2022-04-13T20:59:24.769798",
     "status": "completed"
    },
    "tags": []
   },
   "outputs": [
    {
     "data": {
      "text/plain": [
       "{'r2': 0.89818538068189, 'rmse': 7.791439729559097}"
      ]
     },
     "execution_count": 35,
     "metadata": {},
     "output_type": "execute_result"
    }
   ],
   "source": [
    "pipe = Pipeline([(\"GradientBoostingRegressor\",GradientBoostingRegressor(learning_rate=0.2,n_estimators=200))])\n",
    "r = evaluate_model(estimator=pipe,X=X_iqr,y=y_iqr,metrics=[\"r2\",\"rmse\"],n_splits=5,shuffle=True,random_state=23)\n",
    "r"
   ]
  },
  {
   "cell_type": "markdown",
   "id": "75146743",
   "metadata": {
    "papermill": {
     "duration": 0.091688,
     "end_time": "2022-04-13T20:59:47.544596",
     "exception": false,
     "start_time": "2022-04-13T20:59:47.452908",
     "status": "completed"
    },
    "tags": []
   },
   "source": [
    "### Lasso Regression"
   ]
  },
  {
   "cell_type": "code",
   "execution_count": 36,
   "id": "19a86006",
   "metadata": {
    "execution": {
     "iopub.execute_input": "2022-04-13T20:59:47.734167Z",
     "iopub.status.busy": "2022-04-13T20:59:47.733595Z",
     "iopub.status.idle": "2022-04-13T21:00:47.129692Z",
     "shell.execute_reply": "2022-04-13T21:00:47.128708Z"
    },
    "papermill": {
     "duration": 59.493719,
     "end_time": "2022-04-13T21:00:47.133180",
     "exception": false,
     "start_time": "2022-04-13T20:59:47.639461",
     "status": "completed"
    },
    "tags": []
   },
   "outputs": [],
   "source": [
    "lasso_alphas = []\n",
    "lasso = LassoCV(alphas = None,cv=5,n_jobs=-1,max_iter=10000,normalize=True)\n",
    "lasso.fit(X_iqr_scaled,y_iqr)\n",
    "lasso_alphas.append(lasso.alpha_)\n",
    "for i in [2,3]:\n",
    "    pipe = Pipeline([(\"poly\",PolynomialFeatures(degree=i)),(\"scaler\",StandardScaler())])\n",
    "    X_transformed = pipe.fit_transform(X_iqr)\n",
    "    lasso.fit(X_transformed,y_iqr)\n",
    "    lasso_alphas.append(lasso.alpha_)"
   ]
  },
  {
   "cell_type": "code",
   "execution_count": 37,
   "id": "afe18464",
   "metadata": {
    "execution": {
     "iopub.execute_input": "2022-04-13T21:00:47.371498Z",
     "iopub.status.busy": "2022-04-13T21:00:47.371233Z",
     "iopub.status.idle": "2022-04-13T21:00:47.706656Z",
     "shell.execute_reply": "2022-04-13T21:00:47.705835Z"
    },
    "papermill": {
     "duration": 0.43111,
     "end_time": "2022-04-13T21:00:47.709823",
     "exception": false,
     "start_time": "2022-04-13T21:00:47.278713",
     "status": "completed"
    },
    "tags": []
   },
   "outputs": [
    {
     "data": {
      "text/plain": [
       "{'r2': 0.8358321761620253, 'rmse': 8.030417265424575}"
      ]
     },
     "execution_count": 37,
     "metadata": {},
     "output_type": "execute_result"
    }
   ],
   "source": [
    "pipe = Pipeline([(\"lasso\",Lasso(alpha = lasso_alphas[0]))])\n",
    "r = evaluate_model(estimator=pipe,X=X_iqr_scaled,y=y_iqr,metrics=[\"r2\",\"rmse\"],n_splits=5,shuffle=True,random_state=23)\n",
    "r"
   ]
  },
  {
   "cell_type": "code",
   "execution_count": 38,
   "id": "4f318064",
   "metadata": {
    "execution": {
     "iopub.execute_input": "2022-04-13T21:00:47.984177Z",
     "iopub.status.busy": "2022-04-13T21:00:47.983920Z",
     "iopub.status.idle": "2022-04-13T21:01:01.292146Z",
     "shell.execute_reply": "2022-04-13T21:01:01.291119Z"
    },
    "papermill": {
     "duration": 13.405636,
     "end_time": "2022-04-13T21:01:01.295535",
     "exception": false,
     "start_time": "2022-04-13T21:00:47.889899",
     "status": "completed"
    },
    "tags": []
   },
   "outputs": [
    {
     "data": {
      "text/plain": [
       "{'adjr2': 0.8809050969339646, 'rmse': 7.869814605507907}"
      ]
     },
     "execution_count": 38,
     "metadata": {},
     "output_type": "execute_result"
    }
   ],
   "source": [
    "pipe = Pipeline([(\"poly\",PolynomialFeatures(degree=2)),(\"scaler\",StandardScaler()),(\"lasso\",Lasso(alpha = lasso_alphas[1]))])\n",
    "r = evaluate_model(estimator=pipe,X=X_iqr,y=y_iqr,metrics=[\"adjr2\",\"rmse\"],n_splits=5,shuffle=True,random_state=23)\n",
    "r"
   ]
  },
  {
   "cell_type": "code",
   "execution_count": 39,
   "id": "5c4d7087",
   "metadata": {
    "execution": {
     "iopub.execute_input": "2022-04-13T21:01:01.566895Z",
     "iopub.status.busy": "2022-04-13T21:01:01.566591Z",
     "iopub.status.idle": "2022-04-13T21:01:48.451454Z",
     "shell.execute_reply": "2022-04-13T21:01:48.450432Z"
    },
    "papermill": {
     "duration": 47.112515,
     "end_time": "2022-04-13T21:01:48.577686",
     "exception": false,
     "start_time": "2022-04-13T21:01:01.465171",
     "status": "completed"
    },
    "tags": []
   },
   "outputs": [
    {
     "data": {
      "text/plain": [
       "{'adjr2': 0.8629579470072308, 'rmse': 7.922598859877809}"
      ]
     },
     "execution_count": 39,
     "metadata": {},
     "output_type": "execute_result"
    }
   ],
   "source": [
    "pipe = Pipeline([(\"poly\",PolynomialFeatures(degree=3)),(\"scaler\",StandardScaler()),(\"lasso\",Lasso(alpha = lasso_alphas[2]))])\n",
    "r = evaluate_model(estimator=pipe,X=X_iqr,y=y_iqr,metrics=[\"adjr2\",\"rmse\"],n_splits=5,shuffle=True,random_state=23)\n",
    "r"
   ]
  },
  {
   "cell_type": "markdown",
   "id": "c84abf5d",
   "metadata": {
    "papermill": {
     "duration": 0.092824,
     "end_time": "2022-04-13T21:01:48.762102",
     "exception": false,
     "start_time": "2022-04-13T21:01:48.669278",
     "status": "completed"
    },
    "tags": []
   },
   "source": [
    "### Ridge Regression"
   ]
  },
  {
   "cell_type": "code",
   "execution_count": 40,
   "id": "c8ebb843",
   "metadata": {
    "execution": {
     "iopub.execute_input": "2022-04-13T21:01:48.951021Z",
     "iopub.status.busy": "2022-04-13T21:01:48.950748Z",
     "iopub.status.idle": "2022-04-13T21:08:28.862747Z",
     "shell.execute_reply": "2022-04-13T21:08:28.861629Z"
    },
    "papermill": {
     "duration": 400.011849,
     "end_time": "2022-04-13T21:08:28.866644",
     "exception": false,
     "start_time": "2022-04-13T21:01:48.854795",
     "status": "completed"
    },
    "tags": []
   },
   "outputs": [],
   "source": [
    "ridge_alphas = []\n",
    "ridge = RidgeCV(alphas = np.linspace(3,-3,50),cv=5,normalize=True,scoring=\"neg_mean_squared_error\")\n",
    "ridge.fit(X_iqr_scaled,y_iqr)\n",
    "ridge_alphas.append(ridge.alpha_)\n",
    "for i in [2,3]:\n",
    "    pipe = Pipeline([(\"poly\",PolynomialFeatures(degree=i)),(\"scaler\",StandardScaler())])\n",
    "    X_transformed = pipe.fit_transform(X_iqr)\n",
    "    ridge.fit(X_transformed,y_iqr)\n",
    "    ridge_alphas.append(ridge.alpha_)"
   ]
  },
  {
   "cell_type": "code",
   "execution_count": 41,
   "id": "064ba94f",
   "metadata": {
    "execution": {
     "iopub.execute_input": "2022-04-13T21:08:29.130498Z",
     "iopub.status.busy": "2022-04-13T21:08:29.129498Z",
     "iopub.status.idle": "2022-04-13T21:08:29.253051Z",
     "shell.execute_reply": "2022-04-13T21:08:29.251987Z"
    },
    "papermill": {
     "duration": 0.220654,
     "end_time": "2022-04-13T21:08:29.256509",
     "exception": false,
     "start_time": "2022-04-13T21:08:29.035855",
     "status": "completed"
    },
    "tags": []
   },
   "outputs": [
    {
     "data": {
      "text/plain": [
       "{'r2': 0.8359346385998723, 'rmse': 8.030274651555228}"
      ]
     },
     "execution_count": 41,
     "metadata": {},
     "output_type": "execute_result"
    }
   ],
   "source": [
    "pipe = Pipeline([(\"ridge\",Ridge(alpha = ridge_alphas[0]))])\n",
    "r = evaluate_model(estimator=pipe,X=X_iqr_scaled,y=y_iqr,metrics=[\"r2\",\"rmse\"],n_splits=5,shuffle=True,random_state=17)\n",
    "r"
   ]
  },
  {
   "cell_type": "code",
   "execution_count": 42,
   "id": "a7628f1d",
   "metadata": {
    "execution": {
     "iopub.execute_input": "2022-04-13T21:08:29.493648Z",
     "iopub.status.busy": "2022-04-13T21:08:29.493372Z",
     "iopub.status.idle": "2022-04-13T21:08:30.414883Z",
     "shell.execute_reply": "2022-04-13T21:08:30.413764Z"
    },
    "papermill": {
     "duration": 1.02026,
     "end_time": "2022-04-13T21:08:30.418590",
     "exception": false,
     "start_time": "2022-04-13T21:08:29.398330",
     "status": "completed"
    },
    "tags": []
   },
   "outputs": [
    {
     "data": {
      "text/plain": [
       "{'adjr2': 0.880890912040965, 'rmse': 7.869874571510889}"
      ]
     },
     "execution_count": 42,
     "metadata": {},
     "output_type": "execute_result"
    }
   ],
   "source": [
    "pipe = Pipeline([(\"poly\",PolynomialFeatures(degree=2)),(\"scaler\",StandardScaler()),(\"ridge\",Ridge(alpha = ridge_alphas[1]))])\n",
    "r = evaluate_model(estimator=pipe,X=X_iqr,y=y_iqr,metrics=[\"adjr2\",\"rmse\"],n_splits=5,shuffle=True,random_state=23)\n",
    "r"
   ]
  },
  {
   "cell_type": "code",
   "execution_count": 43,
   "id": "f1d5e043",
   "metadata": {
    "execution": {
     "iopub.execute_input": "2022-04-13T21:08:30.676783Z",
     "iopub.status.busy": "2022-04-13T21:08:30.676116Z",
     "iopub.status.idle": "2022-04-13T21:08:34.154164Z",
     "shell.execute_reply": "2022-04-13T21:08:34.153261Z"
    },
    "papermill": {
     "duration": 3.576782,
     "end_time": "2022-04-13T21:08:34.157761",
     "exception": false,
     "start_time": "2022-04-13T21:08:30.580979",
     "status": "completed"
    },
    "tags": []
   },
   "outputs": [
    {
     "data": {
      "text/plain": [
       "{'adjr2': 0.861233531745086, 'rmse': 7.928354872013562}"
      ]
     },
     "execution_count": 43,
     "metadata": {},
     "output_type": "execute_result"
    }
   ],
   "source": [
    "pipe = Pipeline([(\"poly\",PolynomialFeatures(degree=3)),(\"scaler\",StandardScaler()),(\"ridge\",Ridge(alpha = ridge_alphas[2]))])\n",
    "r = evaluate_model(estimator=pipe,X=X_iqr,y=y_iqr,metrics=[\"adjr2\",\"rmse\"],n_splits=5,shuffle=True,random_state=23)\n",
    "r"
   ]
  },
  {
   "cell_type": "markdown",
   "id": "512c85ac",
   "metadata": {
    "papermill": {
     "duration": 0.091836,
     "end_time": "2022-04-13T21:08:34.397074",
     "exception": false,
     "start_time": "2022-04-13T21:08:34.305238",
     "status": "completed"
    },
    "tags": []
   },
   "source": [
    "### ElasticNet"
   ]
  },
  {
   "cell_type": "code",
   "execution_count": 44,
   "id": "8565716b",
   "metadata": {
    "execution": {
     "iopub.execute_input": "2022-04-13T21:08:34.583822Z",
     "iopub.status.busy": "2022-04-13T21:08:34.583564Z",
     "iopub.status.idle": "2022-04-13T21:22:30.898419Z",
     "shell.execute_reply": "2022-04-13T21:22:30.897405Z"
    },
    "papermill": {
     "duration": 836.411652,
     "end_time": "2022-04-13T21:22:30.901899",
     "exception": false,
     "start_time": "2022-04-13T21:08:34.490247",
     "status": "completed"
    },
    "tags": []
   },
   "outputs": [],
   "source": [
    "elastic_alphas = []\n",
    "elastic = ElasticNetCV(alphas = np.linspace(3,-3,50),cv=5,l1_ratio=np.linspace(0,1,50))\n",
    "elastic.fit(X_iqr_scaled,y_iqr)\n",
    "elastic_alphas.append(ridge.alpha_)\n",
    "for i in [2,3]:\n",
    "    pipe = Pipeline([(\"poly\",PolynomialFeatures(degree=i)),(\"scaler\",StandardScaler())])\n",
    "    X_transformed = pipe.fit_transform(X_iqr)\n",
    "    elastic.fit(X_transformed,y_iqr)\n",
    "    elastic_alphas.append(elastic.alpha_)"
   ]
  },
  {
   "cell_type": "code",
   "execution_count": 45,
   "id": "ff5489c1",
   "metadata": {
    "execution": {
     "iopub.execute_input": "2022-04-13T21:22:31.145433Z",
     "iopub.status.busy": "2022-04-13T21:22:31.145132Z",
     "iopub.status.idle": "2022-04-13T21:22:31.428721Z",
     "shell.execute_reply": "2022-04-13T21:22:31.427930Z"
    },
    "papermill": {
     "duration": 0.381372,
     "end_time": "2022-04-13T21:22:31.431607",
     "exception": false,
     "start_time": "2022-04-13T21:22:31.050235",
     "status": "completed"
    },
    "tags": []
   },
   "outputs": [
    {
     "data": {
      "text/plain": [
       "{'r2': 0.835357306927827, 'rmse': 8.031877465643904}"
      ]
     },
     "execution_count": 45,
     "metadata": {},
     "output_type": "execute_result"
    }
   ],
   "source": [
    "pipe = Pipeline([(\"elastic\",ElasticNet(alpha = elastic_alphas[0]))])\n",
    "r = evaluate_model(estimator=pipe,X=X_iqr_scaled,y=y_iqr,metrics=[\"r2\",\"rmse\"],n_splits=5,shuffle=True,random_state=23)\n",
    "r"
   ]
  },
  {
   "cell_type": "code",
   "execution_count": 46,
   "id": "987867ca",
   "metadata": {
    "execution": {
     "iopub.execute_input": "2022-04-13T21:22:31.685345Z",
     "iopub.status.busy": "2022-04-13T21:22:31.684822Z",
     "iopub.status.idle": "2022-04-13T21:22:33.031625Z",
     "shell.execute_reply": "2022-04-13T21:22:33.030465Z"
    },
    "papermill": {
     "duration": 1.443905,
     "end_time": "2022-04-13T21:22:33.034549",
     "exception": false,
     "start_time": "2022-04-13T21:22:31.590644",
     "status": "completed"
    },
    "tags": []
   },
   "outputs": [
    {
     "data": {
      "text/plain": [
       "{'adjr2': 0.7917227009072025, 'rmse': 8.149433396519203}"
      ]
     },
     "execution_count": 46,
     "metadata": {},
     "output_type": "execute_result"
    }
   ],
   "source": [
    "pipe = Pipeline([(\"poly\",PolynomialFeatures(degree=2)),(\"scaler\",StandardScaler()),(\"elastic\",ElasticNet(alpha = elastic_alphas[1]))])\n",
    "r = evaluate_model(estimator=pipe,X=X_iqr,y=y_iqr,metrics=[\"adjr2\",\"rmse\"],n_splits=5,shuffle=True,random_state=23)\n",
    "r"
   ]
  },
  {
   "cell_type": "code",
   "execution_count": 47,
   "id": "662d8f55",
   "metadata": {
    "execution": {
     "iopub.execute_input": "2022-04-13T21:22:33.293104Z",
     "iopub.status.busy": "2022-04-13T21:22:33.292819Z",
     "iopub.status.idle": "2022-04-13T21:23:13.463761Z",
     "shell.execute_reply": "2022-04-13T21:23:13.462286Z"
    },
    "papermill": {
     "duration": 40.400526,
     "end_time": "2022-04-13T21:23:13.598478",
     "exception": false,
     "start_time": "2022-04-13T21:22:33.197952",
     "status": "completed"
    },
    "tags": []
   },
   "outputs": [
    {
     "data": {
      "text/plain": [
       "{'adjr2': 0.8454202567004605, 'rmse': 8.00033954318828}"
      ]
     },
     "execution_count": 47,
     "metadata": {},
     "output_type": "execute_result"
    }
   ],
   "source": [
    "pipe = Pipeline([(\"poly\",PolynomialFeatures(degree=3)),(\"scaler\",StandardScaler()),(\"elastic\",ElasticNet(alpha = elastic_alphas[2]))])\n",
    "r = evaluate_model(estimator=pipe,X=X_iqr,y=y_iqr,metrics=[\"adjr2\",\"rmse\"],n_splits=5,shuffle=True,random_state=23)\n",
    "r"
   ]
  },
  {
   "cell_type": "markdown",
   "id": "1f9a532b",
   "metadata": {
    "papermill": {
     "duration": 0.09795,
     "end_time": "2022-04-13T21:23:13.791081",
     "exception": false,
     "start_time": "2022-04-13T21:23:13.693131",
     "status": "completed"
    },
    "tags": []
   },
   "source": [
    "## Best Model"
   ]
  },
  {
   "cell_type": "code",
   "execution_count": 48,
   "id": "60043785",
   "metadata": {
    "execution": {
     "iopub.execute_input": "2022-04-13T21:23:13.982299Z",
     "iopub.status.busy": "2022-04-13T21:23:13.982020Z",
     "iopub.status.idle": "2022-04-13T21:23:17.929726Z",
     "shell.execute_reply": "2022-04-13T21:23:17.928654Z"
    },
    "papermill": {
     "duration": 4.048026,
     "end_time": "2022-04-13T21:23:17.933546",
     "exception": false,
     "start_time": "2022-04-13T21:23:13.885520",
     "status": "completed"
    },
    "tags": []
   },
   "outputs": [
    {
     "name": "stdout",
     "output_type": "stream",
     "text": [
      "R2 Score : 0.9022412853775833\n",
      "Root Mean Squared Error : 7.784842135249708\n"
     ]
    }
   ],
   "source": [
    "pipe = Pipeline([(\"GradientBoostingRegressor\",GradientBoostingRegressor(learning_rate=0.2,n_estimators=200))])\n",
    "X_train, X_test, y_train, y_test = train_test_split(X_iqr,y_iqr,test_size=0.3,random_state=23)\n",
    "pipe.fit(X_train,y_train)\n",
    "pred = pipe.predict(X_test)\n",
    "print(f\"R2 Score : {r2_score(y_test,pred)}\")\n",
    "print(f\"Root Mean Squared Error : {root_mse(y_test,pred)}\")"
   ]
  }
 ],
 "metadata": {
  "kernelspec": {
   "display_name": "Python 3 (ipykernel)",
   "language": "python",
   "name": "python3"
  },
  "language_info": {
   "codemirror_mode": {
    "name": "ipython",
    "version": 3
   },
   "file_extension": ".py",
   "mimetype": "text/x-python",
   "name": "python",
   "nbconvert_exporter": "python",
   "pygments_lexer": "ipython3",
   "version": "3.9.4"
  },
  "papermill": {
   "default_parameters": {},
   "duration": 1821.759757,
   "end_time": "2022-04-13T21:23:18.859024",
   "environment_variables": {},
   "exception": null,
   "input_path": "__notebook__.ipynb",
   "output_path": "__notebook__.ipynb",
   "parameters": {},
   "start_time": "2022-04-13T20:52:57.099267",
   "version": "2.3.4"
  }
 },
 "nbformat": 4,
 "nbformat_minor": 5
}
